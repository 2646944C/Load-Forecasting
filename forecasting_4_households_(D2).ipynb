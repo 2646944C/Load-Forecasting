{
  "cells": [
    {
      "cell_type": "markdown",
      "metadata": {
        "id": "Y6KeunTyinYt"
      },
      "source": [
        "# Forecasting"
      ]
    },
    {
      "cell_type": "markdown",
      "metadata": {
        "id": "8ID7hfAeZ5TH"
      },
      "source": [
        "In this workshop, you will forecast the charging profile of a real EV based on historic data of consumption. \n",
        "The dataset you will use corresponds to the charging times of many different households during several years. \n"
      ]
    },
    {
      "cell_type": "code",
      "execution_count": 1,
      "metadata": {
        "id": "ObQV5aG137DP"
      },
      "outputs": [],
      "source": [
        "import warnings\n",
        "warnings.filterwarnings(\"ignore\")"
      ]
    },
    {
      "cell_type": "markdown",
      "metadata": {
        "id": "VD6bnJIgZ0LG"
      },
      "source": [
        "# Donwload the data"
      ]
    },
    {
      "cell_type": "code",
      "execution_count": 2,
      "metadata": {
        "colab": {
          "base_uri": "https://localhost:8080/"
        },
        "id": "NyCo1xx54EaE",
        "outputId": "fef4a078-74fc-47a7-94a7-9c463b7f6b33"
      },
      "outputs": [
        {
          "output_type": "stream",
          "name": "stdout",
          "text": [
            "Looking in indexes: https://pypi.org/simple, https://us-python.pkg.dev/colab-wheels/public/simple/\n",
            "Collecting wget\n",
            "  Downloading wget-3.2.zip (10 kB)\n",
            "Building wheels for collected packages: wget\n",
            "  Building wheel for wget (setup.py) ... \u001b[?25l\u001b[?25hdone\n",
            "  Created wheel for wget: filename=wget-3.2-py3-none-any.whl size=9675 sha256=9445b27a3f5738552a04b3595717cf05319a598e97a71d709573b0a09de1d2d7\n",
            "  Stored in directory: /root/.cache/pip/wheels/a1/b6/7c/0e63e34eb06634181c63adacca38b79ff8f35c37e3c13e3c02\n",
            "Successfully built wget\n",
            "Installing collected packages: wget\n",
            "Successfully installed wget-3.2\n",
            "Looking in indexes: https://pypi.org/simple, https://us-python.pkg.dev/colab-wheels/public/simple/\n",
            "Requirement already satisfied: pandas in /usr/local/lib/python3.7/dist-packages (1.3.5)\n",
            "Requirement already satisfied: pytz>=2017.3 in /usr/local/lib/python3.7/dist-packages (from pandas) (2022.1)\n",
            "Requirement already satisfied: numpy>=1.17.3 in /usr/local/lib/python3.7/dist-packages (from pandas) (1.21.6)\n",
            "Requirement already satisfied: python-dateutil>=2.7.3 in /usr/local/lib/python3.7/dist-packages (from pandas) (2.8.2)\n",
            "Requirement already satisfied: six>=1.5 in /usr/local/lib/python3.7/dist-packages (from python-dateutil>=2.7.3->pandas) (1.15.0)\n",
            "Looking in indexes: https://pypi.org/simple, https://us-python.pkg.dev/colab-wheels/public/simple/\n",
            "Requirement already satisfied: numpy in /usr/local/lib/python3.7/dist-packages (1.21.6)\n",
            "Looking in indexes: https://pypi.org/simple, https://us-python.pkg.dev/colab-wheels/public/simple/\n",
            "Requirement already satisfied: matplotlib in /usr/local/lib/python3.7/dist-packages (3.2.2)\n",
            "Requirement already satisfied: cycler>=0.10 in /usr/local/lib/python3.7/dist-packages (from matplotlib) (0.11.0)\n",
            "Requirement already satisfied: python-dateutil>=2.1 in /usr/local/lib/python3.7/dist-packages (from matplotlib) (2.8.2)\n",
            "Requirement already satisfied: pyparsing!=2.0.4,!=2.1.2,!=2.1.6,>=2.0.1 in /usr/local/lib/python3.7/dist-packages (from matplotlib) (3.0.9)\n",
            "Requirement already satisfied: numpy>=1.11 in /usr/local/lib/python3.7/dist-packages (from matplotlib) (1.21.6)\n",
            "Requirement already satisfied: kiwisolver>=1.0.1 in /usr/local/lib/python3.7/dist-packages (from matplotlib) (1.4.4)\n",
            "Requirement already satisfied: typing-extensions in /usr/local/lib/python3.7/dist-packages (from kiwisolver>=1.0.1->matplotlib) (4.1.1)\n",
            "Requirement already satisfied: six>=1.5 in /usr/local/lib/python3.7/dist-packages (from python-dateutil>=2.1->matplotlib) (1.15.0)\n"
          ]
        }
      ],
      "source": [
        "!pip install wget\n",
        "!pip install pandas\n",
        "\n",
        "from datetime import datetime\n",
        "!pip install numpy\n",
        "import numpy as np\n",
        "!pip install matplotlib\n",
        "\n",
        "from datetime import datetime\n",
        "\n",
        "import warnings\n",
        "warnings.filterwarnings(\"ignore\")\n",
        "\n",
        "from google.colab import files\n",
        "\n",
        "import os\n",
        "\n",
        "import io\n",
        "\n",
        "import csv\n",
        "\n",
        "import pandas as pd\n",
        "\n",
        "import matplotlib as plt"
      ]
    },
    {
      "cell_type": "code",
      "source": [
        "from google.colab import drive \n",
        "drive.mount('/content/drive/')\n",
        "\n",
        "data_1 = '/content/drive/MyDrive/project/data/3F3BC.csv'\n",
        "data_2 = '/content/drive/MyDrive/project/data/5F1F0.csv'\n",
        "data_3 = '/content/drive/MyDrive/project/data/98CA4.csv'\n",
        "data_4 = '/content/drive/MyDrive/project/data/B4CE3.csv'\n",
        "\n",
        "\n",
        "\n",
        "np.set_printoptions(suppress=True) # Preventing the use of scientific notation\n",
        "tab = pd.read_csv(data_1, sep=',')\n",
        "tab1 = pd.read_csv(data_1, sep=',')\n",
        "tab2 = pd.read_csv(data_2, sep=',')\n",
        "tab3 = pd.read_csv(data_3, sep=',')\n",
        "tab4 = pd.read_csv(data_4, sep=',')\n",
        "\n",
        "\n",
        "tab = tab.interpolate()\n",
        "tab1 = tab1.interpolate()\n",
        "tab2 = tab2.interpolate()\n",
        "tab3 = tab3.interpolate()\n",
        "tab4 = tab4.interpolate()\n",
        "\n",
        "\n",
        "tab4"
      ],
      "metadata": {
        "colab": {
          "base_uri": "https://localhost:8080/",
          "height": 441
        },
        "id": "aSsTPuaN-DQ6",
        "outputId": "514925bd-4eab-41cf-9a5c-1ecda6b97675"
      },
      "execution_count": 4,
      "outputs": [
        {
          "output_type": "stream",
          "name": "stdout",
          "text": [
            "Drive already mounted at /content/drive/; to attempt to forcibly remount, call drive.mount(\"/content/drive/\", force_remount=True).\n"
          ]
        },
        {
          "output_type": "execute_result",
          "data": {
            "text/plain": [
              "                   time   value\n",
              "0         2021/2/1 0:00   756.0\n",
              "1         2021/2/1 0:01   787.0\n",
              "2         2021/2/1 0:02   782.0\n",
              "3         2021/2/1 0:03   782.0\n",
              "4         2021/2/1 0:04  1275.0\n",
              "...                 ...     ...\n",
              "128155  2021/4/30 23:55   693.0\n",
              "128156  2021/4/30 23:56   452.0\n",
              "128157  2021/4/30 23:57   184.0\n",
              "128158  2021/4/30 23:58   183.0\n",
              "128159  2021/4/30 23:59   270.0\n",
              "\n",
              "[128160 rows x 2 columns]"
            ],
            "text/html": [
              "\n",
              "  <div id=\"df-242f432f-f14e-478e-b821-3f8ca65aa0a1\">\n",
              "    <div class=\"colab-df-container\">\n",
              "      <div>\n",
              "<style scoped>\n",
              "    .dataframe tbody tr th:only-of-type {\n",
              "        vertical-align: middle;\n",
              "    }\n",
              "\n",
              "    .dataframe tbody tr th {\n",
              "        vertical-align: top;\n",
              "    }\n",
              "\n",
              "    .dataframe thead th {\n",
              "        text-align: right;\n",
              "    }\n",
              "</style>\n",
              "<table border=\"1\" class=\"dataframe\">\n",
              "  <thead>\n",
              "    <tr style=\"text-align: right;\">\n",
              "      <th></th>\n",
              "      <th>time</th>\n",
              "      <th>value</th>\n",
              "    </tr>\n",
              "  </thead>\n",
              "  <tbody>\n",
              "    <tr>\n",
              "      <th>0</th>\n",
              "      <td>2021/2/1 0:00</td>\n",
              "      <td>756.0</td>\n",
              "    </tr>\n",
              "    <tr>\n",
              "      <th>1</th>\n",
              "      <td>2021/2/1 0:01</td>\n",
              "      <td>787.0</td>\n",
              "    </tr>\n",
              "    <tr>\n",
              "      <th>2</th>\n",
              "      <td>2021/2/1 0:02</td>\n",
              "      <td>782.0</td>\n",
              "    </tr>\n",
              "    <tr>\n",
              "      <th>3</th>\n",
              "      <td>2021/2/1 0:03</td>\n",
              "      <td>782.0</td>\n",
              "    </tr>\n",
              "    <tr>\n",
              "      <th>4</th>\n",
              "      <td>2021/2/1 0:04</td>\n",
              "      <td>1275.0</td>\n",
              "    </tr>\n",
              "    <tr>\n",
              "      <th>...</th>\n",
              "      <td>...</td>\n",
              "      <td>...</td>\n",
              "    </tr>\n",
              "    <tr>\n",
              "      <th>128155</th>\n",
              "      <td>2021/4/30 23:55</td>\n",
              "      <td>693.0</td>\n",
              "    </tr>\n",
              "    <tr>\n",
              "      <th>128156</th>\n",
              "      <td>2021/4/30 23:56</td>\n",
              "      <td>452.0</td>\n",
              "    </tr>\n",
              "    <tr>\n",
              "      <th>128157</th>\n",
              "      <td>2021/4/30 23:57</td>\n",
              "      <td>184.0</td>\n",
              "    </tr>\n",
              "    <tr>\n",
              "      <th>128158</th>\n",
              "      <td>2021/4/30 23:58</td>\n",
              "      <td>183.0</td>\n",
              "    </tr>\n",
              "    <tr>\n",
              "      <th>128159</th>\n",
              "      <td>2021/4/30 23:59</td>\n",
              "      <td>270.0</td>\n",
              "    </tr>\n",
              "  </tbody>\n",
              "</table>\n",
              "<p>128160 rows × 2 columns</p>\n",
              "</div>\n",
              "      <button class=\"colab-df-convert\" onclick=\"convertToInteractive('df-242f432f-f14e-478e-b821-3f8ca65aa0a1')\"\n",
              "              title=\"Convert this dataframe to an interactive table.\"\n",
              "              style=\"display:none;\">\n",
              "        \n",
              "  <svg xmlns=\"http://www.w3.org/2000/svg\" height=\"24px\"viewBox=\"0 0 24 24\"\n",
              "       width=\"24px\">\n",
              "    <path d=\"M0 0h24v24H0V0z\" fill=\"none\"/>\n",
              "    <path d=\"M18.56 5.44l.94 2.06.94-2.06 2.06-.94-2.06-.94-.94-2.06-.94 2.06-2.06.94zm-11 1L8.5 8.5l.94-2.06 2.06-.94-2.06-.94L8.5 2.5l-.94 2.06-2.06.94zm10 10l.94 2.06.94-2.06 2.06-.94-2.06-.94-.94-2.06-.94 2.06-2.06.94z\"/><path d=\"M17.41 7.96l-1.37-1.37c-.4-.4-.92-.59-1.43-.59-.52 0-1.04.2-1.43.59L10.3 9.45l-7.72 7.72c-.78.78-.78 2.05 0 2.83L4 21.41c.39.39.9.59 1.41.59.51 0 1.02-.2 1.41-.59l7.78-7.78 2.81-2.81c.8-.78.8-2.07 0-2.86zM5.41 20L4 18.59l7.72-7.72 1.47 1.35L5.41 20z\"/>\n",
              "  </svg>\n",
              "      </button>\n",
              "      \n",
              "  <style>\n",
              "    .colab-df-container {\n",
              "      display:flex;\n",
              "      flex-wrap:wrap;\n",
              "      gap: 12px;\n",
              "    }\n",
              "\n",
              "    .colab-df-convert {\n",
              "      background-color: #E8F0FE;\n",
              "      border: none;\n",
              "      border-radius: 50%;\n",
              "      cursor: pointer;\n",
              "      display: none;\n",
              "      fill: #1967D2;\n",
              "      height: 32px;\n",
              "      padding: 0 0 0 0;\n",
              "      width: 32px;\n",
              "    }\n",
              "\n",
              "    .colab-df-convert:hover {\n",
              "      background-color: #E2EBFA;\n",
              "      box-shadow: 0px 1px 2px rgba(60, 64, 67, 0.3), 0px 1px 3px 1px rgba(60, 64, 67, 0.15);\n",
              "      fill: #174EA6;\n",
              "    }\n",
              "\n",
              "    [theme=dark] .colab-df-convert {\n",
              "      background-color: #3B4455;\n",
              "      fill: #D2E3FC;\n",
              "    }\n",
              "\n",
              "    [theme=dark] .colab-df-convert:hover {\n",
              "      background-color: #434B5C;\n",
              "      box-shadow: 0px 1px 3px 1px rgba(0, 0, 0, 0.15);\n",
              "      filter: drop-shadow(0px 1px 2px rgba(0, 0, 0, 0.3));\n",
              "      fill: #FFFFFF;\n",
              "    }\n",
              "  </style>\n",
              "\n",
              "      <script>\n",
              "        const buttonEl =\n",
              "          document.querySelector('#df-242f432f-f14e-478e-b821-3f8ca65aa0a1 button.colab-df-convert');\n",
              "        buttonEl.style.display =\n",
              "          google.colab.kernel.accessAllowed ? 'block' : 'none';\n",
              "\n",
              "        async function convertToInteractive(key) {\n",
              "          const element = document.querySelector('#df-242f432f-f14e-478e-b821-3f8ca65aa0a1');\n",
              "          const dataTable =\n",
              "            await google.colab.kernel.invokeFunction('convertToInteractive',\n",
              "                                                     [key], {});\n",
              "          if (!dataTable) return;\n",
              "\n",
              "          const docLinkHtml = 'Like what you see? Visit the ' +\n",
              "            '<a target=\"_blank\" href=https://colab.research.google.com/notebooks/data_table.ipynb>data table notebook</a>'\n",
              "            + ' to learn more about interactive tables.';\n",
              "          element.innerHTML = '';\n",
              "          dataTable['output_type'] = 'display_data';\n",
              "          await google.colab.output.renderOutput(dataTable, element);\n",
              "          const docLink = document.createElement('div');\n",
              "          docLink.innerHTML = docLinkHtml;\n",
              "          element.appendChild(docLink);\n",
              "        }\n",
              "      </script>\n",
              "    </div>\n",
              "  </div>\n",
              "  "
            ]
          },
          "metadata": {},
          "execution_count": 4
        }
      ]
    },
    {
      "cell_type": "code",
      "source": [
        "# tab['value'] = tab1['value']\n",
        "# tab['value'] = (tab1['value']+tab2['value'])/2\n",
        "# tab['value'] = (tab1['value']+tab2['value']+tab3['value'])/3\n",
        "tab['value'] = (tab1['value']+tab2['value']+tab3['value']+tab4['value'])/4\n",
        "tab"
      ],
      "metadata": {
        "colab": {
          "base_uri": "https://localhost:8080/",
          "height": 424
        },
        "id": "AS6wzzor0xUi",
        "outputId": "fe88993d-0a5b-4e4c-9b97-dd6c1aafab74"
      },
      "execution_count": 5,
      "outputs": [
        {
          "output_type": "execute_result",
          "data": {
            "text/plain": [
              "                   time   value\n",
              "0         2021/2/1 0:00  568.25\n",
              "1         2021/2/1 0:01  483.50\n",
              "2         2021/2/1 0:02  532.00\n",
              "3         2021/2/1 0:03  488.50\n",
              "4         2021/2/1 0:04  600.25\n",
              "...                 ...     ...\n",
              "128155  2021/4/30 23:55  541.75\n",
              "128156  2021/4/30 23:56  511.00\n",
              "128157  2021/4/30 23:57  450.00\n",
              "128158  2021/4/30 23:58  438.50\n",
              "128159  2021/4/30 23:59  432.50\n",
              "\n",
              "[128160 rows x 2 columns]"
            ],
            "text/html": [
              "\n",
              "  <div id=\"df-d65a8d4d-a6f1-4b49-a9a0-03fcbba1968b\">\n",
              "    <div class=\"colab-df-container\">\n",
              "      <div>\n",
              "<style scoped>\n",
              "    .dataframe tbody tr th:only-of-type {\n",
              "        vertical-align: middle;\n",
              "    }\n",
              "\n",
              "    .dataframe tbody tr th {\n",
              "        vertical-align: top;\n",
              "    }\n",
              "\n",
              "    .dataframe thead th {\n",
              "        text-align: right;\n",
              "    }\n",
              "</style>\n",
              "<table border=\"1\" class=\"dataframe\">\n",
              "  <thead>\n",
              "    <tr style=\"text-align: right;\">\n",
              "      <th></th>\n",
              "      <th>time</th>\n",
              "      <th>value</th>\n",
              "    </tr>\n",
              "  </thead>\n",
              "  <tbody>\n",
              "    <tr>\n",
              "      <th>0</th>\n",
              "      <td>2021/2/1 0:00</td>\n",
              "      <td>568.25</td>\n",
              "    </tr>\n",
              "    <tr>\n",
              "      <th>1</th>\n",
              "      <td>2021/2/1 0:01</td>\n",
              "      <td>483.50</td>\n",
              "    </tr>\n",
              "    <tr>\n",
              "      <th>2</th>\n",
              "      <td>2021/2/1 0:02</td>\n",
              "      <td>532.00</td>\n",
              "    </tr>\n",
              "    <tr>\n",
              "      <th>3</th>\n",
              "      <td>2021/2/1 0:03</td>\n",
              "      <td>488.50</td>\n",
              "    </tr>\n",
              "    <tr>\n",
              "      <th>4</th>\n",
              "      <td>2021/2/1 0:04</td>\n",
              "      <td>600.25</td>\n",
              "    </tr>\n",
              "    <tr>\n",
              "      <th>...</th>\n",
              "      <td>...</td>\n",
              "      <td>...</td>\n",
              "    </tr>\n",
              "    <tr>\n",
              "      <th>128155</th>\n",
              "      <td>2021/4/30 23:55</td>\n",
              "      <td>541.75</td>\n",
              "    </tr>\n",
              "    <tr>\n",
              "      <th>128156</th>\n",
              "      <td>2021/4/30 23:56</td>\n",
              "      <td>511.00</td>\n",
              "    </tr>\n",
              "    <tr>\n",
              "      <th>128157</th>\n",
              "      <td>2021/4/30 23:57</td>\n",
              "      <td>450.00</td>\n",
              "    </tr>\n",
              "    <tr>\n",
              "      <th>128158</th>\n",
              "      <td>2021/4/30 23:58</td>\n",
              "      <td>438.50</td>\n",
              "    </tr>\n",
              "    <tr>\n",
              "      <th>128159</th>\n",
              "      <td>2021/4/30 23:59</td>\n",
              "      <td>432.50</td>\n",
              "    </tr>\n",
              "  </tbody>\n",
              "</table>\n",
              "<p>128160 rows × 2 columns</p>\n",
              "</div>\n",
              "      <button class=\"colab-df-convert\" onclick=\"convertToInteractive('df-d65a8d4d-a6f1-4b49-a9a0-03fcbba1968b')\"\n",
              "              title=\"Convert this dataframe to an interactive table.\"\n",
              "              style=\"display:none;\">\n",
              "        \n",
              "  <svg xmlns=\"http://www.w3.org/2000/svg\" height=\"24px\"viewBox=\"0 0 24 24\"\n",
              "       width=\"24px\">\n",
              "    <path d=\"M0 0h24v24H0V0z\" fill=\"none\"/>\n",
              "    <path d=\"M18.56 5.44l.94 2.06.94-2.06 2.06-.94-2.06-.94-.94-2.06-.94 2.06-2.06.94zm-11 1L8.5 8.5l.94-2.06 2.06-.94-2.06-.94L8.5 2.5l-.94 2.06-2.06.94zm10 10l.94 2.06.94-2.06 2.06-.94-2.06-.94-.94-2.06-.94 2.06-2.06.94z\"/><path d=\"M17.41 7.96l-1.37-1.37c-.4-.4-.92-.59-1.43-.59-.52 0-1.04.2-1.43.59L10.3 9.45l-7.72 7.72c-.78.78-.78 2.05 0 2.83L4 21.41c.39.39.9.59 1.41.59.51 0 1.02-.2 1.41-.59l7.78-7.78 2.81-2.81c.8-.78.8-2.07 0-2.86zM5.41 20L4 18.59l7.72-7.72 1.47 1.35L5.41 20z\"/>\n",
              "  </svg>\n",
              "      </button>\n",
              "      \n",
              "  <style>\n",
              "    .colab-df-container {\n",
              "      display:flex;\n",
              "      flex-wrap:wrap;\n",
              "      gap: 12px;\n",
              "    }\n",
              "\n",
              "    .colab-df-convert {\n",
              "      background-color: #E8F0FE;\n",
              "      border: none;\n",
              "      border-radius: 50%;\n",
              "      cursor: pointer;\n",
              "      display: none;\n",
              "      fill: #1967D2;\n",
              "      height: 32px;\n",
              "      padding: 0 0 0 0;\n",
              "      width: 32px;\n",
              "    }\n",
              "\n",
              "    .colab-df-convert:hover {\n",
              "      background-color: #E2EBFA;\n",
              "      box-shadow: 0px 1px 2px rgba(60, 64, 67, 0.3), 0px 1px 3px 1px rgba(60, 64, 67, 0.15);\n",
              "      fill: #174EA6;\n",
              "    }\n",
              "\n",
              "    [theme=dark] .colab-df-convert {\n",
              "      background-color: #3B4455;\n",
              "      fill: #D2E3FC;\n",
              "    }\n",
              "\n",
              "    [theme=dark] .colab-df-convert:hover {\n",
              "      background-color: #434B5C;\n",
              "      box-shadow: 0px 1px 3px 1px rgba(0, 0, 0, 0.15);\n",
              "      filter: drop-shadow(0px 1px 2px rgba(0, 0, 0, 0.3));\n",
              "      fill: #FFFFFF;\n",
              "    }\n",
              "  </style>\n",
              "\n",
              "      <script>\n",
              "        const buttonEl =\n",
              "          document.querySelector('#df-d65a8d4d-a6f1-4b49-a9a0-03fcbba1968b button.colab-df-convert');\n",
              "        buttonEl.style.display =\n",
              "          google.colab.kernel.accessAllowed ? 'block' : 'none';\n",
              "\n",
              "        async function convertToInteractive(key) {\n",
              "          const element = document.querySelector('#df-d65a8d4d-a6f1-4b49-a9a0-03fcbba1968b');\n",
              "          const dataTable =\n",
              "            await google.colab.kernel.invokeFunction('convertToInteractive',\n",
              "                                                     [key], {});\n",
              "          if (!dataTable) return;\n",
              "\n",
              "          const docLinkHtml = 'Like what you see? Visit the ' +\n",
              "            '<a target=\"_blank\" href=https://colab.research.google.com/notebooks/data_table.ipynb>data table notebook</a>'\n",
              "            + ' to learn more about interactive tables.';\n",
              "          element.innerHTML = '';\n",
              "          dataTable['output_type'] = 'display_data';\n",
              "          await google.colab.output.renderOutput(dataTable, element);\n",
              "          const docLink = document.createElement('div');\n",
              "          docLink.innerHTML = docLinkHtml;\n",
              "          element.appendChild(docLink);\n",
              "        }\n",
              "      </script>\n",
              "    </div>\n",
              "  </div>\n",
              "  "
            ]
          },
          "metadata": {},
          "execution_count": 5
        }
      ]
    },
    {
      "cell_type": "markdown",
      "metadata": {
        "id": "21iXTtbRZ239"
      },
      "source": [
        "# Data Processing/Cleaning"
      ]
    },
    {
      "cell_type": "markdown",
      "metadata": {
        "id": "Bw89G2aCaiST"
      },
      "source": [
        "Before implementing a model, we first need to clean the data and prepare it for the training phase."
      ]
    },
    {
      "cell_type": "markdown",
      "metadata": {
        "id": "AthiHejk7gqO"
      },
      "source": [
        "# Let's select columns of interest"
      ]
    },
    {
      "cell_type": "code",
      "execution_count": 6,
      "metadata": {
        "id": "QBgwlrze75oW"
      },
      "outputs": [],
      "source": [
        "mycolumns = ['time','value']\n",
        "df=tab[mycolumns]\n",
        "\n",
        "\n",
        "A = df\n",
        "# add the day of week information\n",
        "A['time'] = pd.to_datetime(A['time'])\n",
        "A['day_of_week'] = A['time'].dt.dayofweek\n",
        "\n",
        "\n",
        "# A = df.loc[df['ChargerID'] == End_user_ID]\n",
        "# # add the day of week information\n",
        "# A['TimeStamp'] = pd.to_datetime(A['TimeStamp'])\n",
        "# A['day_of_week'] = A['TimeStamp'].dt.dayofweek\n",
        "# # normalise the power: we only want to know if the end-user charged or not. \n",
        "# A.loc[A['Power_W'] > Min_Power, 'Power_W'] = 1"
      ]
    },
    {
      "cell_type": "code",
      "execution_count": 7,
      "metadata": {
        "id": "KqDicB0-bngE",
        "colab": {
          "base_uri": "https://localhost:8080/",
          "height": 424
        },
        "outputId": "728426cb-af13-4069-d7fa-10fcca2a2d0b"
      },
      "outputs": [
        {
          "output_type": "execute_result",
          "data": {
            "text/plain": [
              "                      time   value  day_of_week\n",
              "0      2021-02-01 00:00:00  568.25            0\n",
              "1      2021-02-01 00:01:00  483.50            0\n",
              "2      2021-02-01 00:02:00  532.00            0\n",
              "3      2021-02-01 00:03:00  488.50            0\n",
              "4      2021-02-01 00:04:00  600.25            0\n",
              "...                    ...     ...          ...\n",
              "128155 2021-04-30 23:55:00  541.75            4\n",
              "128156 2021-04-30 23:56:00  511.00            4\n",
              "128157 2021-04-30 23:57:00  450.00            4\n",
              "128158 2021-04-30 23:58:00  438.50            4\n",
              "128159 2021-04-30 23:59:00  432.50            4\n",
              "\n",
              "[128160 rows x 3 columns]"
            ],
            "text/html": [
              "\n",
              "  <div id=\"df-a02f2769-a39c-4371-a3e2-ad7c27a0ba7f\">\n",
              "    <div class=\"colab-df-container\">\n",
              "      <div>\n",
              "<style scoped>\n",
              "    .dataframe tbody tr th:only-of-type {\n",
              "        vertical-align: middle;\n",
              "    }\n",
              "\n",
              "    .dataframe tbody tr th {\n",
              "        vertical-align: top;\n",
              "    }\n",
              "\n",
              "    .dataframe thead th {\n",
              "        text-align: right;\n",
              "    }\n",
              "</style>\n",
              "<table border=\"1\" class=\"dataframe\">\n",
              "  <thead>\n",
              "    <tr style=\"text-align: right;\">\n",
              "      <th></th>\n",
              "      <th>time</th>\n",
              "      <th>value</th>\n",
              "      <th>day_of_week</th>\n",
              "    </tr>\n",
              "  </thead>\n",
              "  <tbody>\n",
              "    <tr>\n",
              "      <th>0</th>\n",
              "      <td>2021-02-01 00:00:00</td>\n",
              "      <td>568.25</td>\n",
              "      <td>0</td>\n",
              "    </tr>\n",
              "    <tr>\n",
              "      <th>1</th>\n",
              "      <td>2021-02-01 00:01:00</td>\n",
              "      <td>483.50</td>\n",
              "      <td>0</td>\n",
              "    </tr>\n",
              "    <tr>\n",
              "      <th>2</th>\n",
              "      <td>2021-02-01 00:02:00</td>\n",
              "      <td>532.00</td>\n",
              "      <td>0</td>\n",
              "    </tr>\n",
              "    <tr>\n",
              "      <th>3</th>\n",
              "      <td>2021-02-01 00:03:00</td>\n",
              "      <td>488.50</td>\n",
              "      <td>0</td>\n",
              "    </tr>\n",
              "    <tr>\n",
              "      <th>4</th>\n",
              "      <td>2021-02-01 00:04:00</td>\n",
              "      <td>600.25</td>\n",
              "      <td>0</td>\n",
              "    </tr>\n",
              "    <tr>\n",
              "      <th>...</th>\n",
              "      <td>...</td>\n",
              "      <td>...</td>\n",
              "      <td>...</td>\n",
              "    </tr>\n",
              "    <tr>\n",
              "      <th>128155</th>\n",
              "      <td>2021-04-30 23:55:00</td>\n",
              "      <td>541.75</td>\n",
              "      <td>4</td>\n",
              "    </tr>\n",
              "    <tr>\n",
              "      <th>128156</th>\n",
              "      <td>2021-04-30 23:56:00</td>\n",
              "      <td>511.00</td>\n",
              "      <td>4</td>\n",
              "    </tr>\n",
              "    <tr>\n",
              "      <th>128157</th>\n",
              "      <td>2021-04-30 23:57:00</td>\n",
              "      <td>450.00</td>\n",
              "      <td>4</td>\n",
              "    </tr>\n",
              "    <tr>\n",
              "      <th>128158</th>\n",
              "      <td>2021-04-30 23:58:00</td>\n",
              "      <td>438.50</td>\n",
              "      <td>4</td>\n",
              "    </tr>\n",
              "    <tr>\n",
              "      <th>128159</th>\n",
              "      <td>2021-04-30 23:59:00</td>\n",
              "      <td>432.50</td>\n",
              "      <td>4</td>\n",
              "    </tr>\n",
              "  </tbody>\n",
              "</table>\n",
              "<p>128160 rows × 3 columns</p>\n",
              "</div>\n",
              "      <button class=\"colab-df-convert\" onclick=\"convertToInteractive('df-a02f2769-a39c-4371-a3e2-ad7c27a0ba7f')\"\n",
              "              title=\"Convert this dataframe to an interactive table.\"\n",
              "              style=\"display:none;\">\n",
              "        \n",
              "  <svg xmlns=\"http://www.w3.org/2000/svg\" height=\"24px\"viewBox=\"0 0 24 24\"\n",
              "       width=\"24px\">\n",
              "    <path d=\"M0 0h24v24H0V0z\" fill=\"none\"/>\n",
              "    <path d=\"M18.56 5.44l.94 2.06.94-2.06 2.06-.94-2.06-.94-.94-2.06-.94 2.06-2.06.94zm-11 1L8.5 8.5l.94-2.06 2.06-.94-2.06-.94L8.5 2.5l-.94 2.06-2.06.94zm10 10l.94 2.06.94-2.06 2.06-.94-2.06-.94-.94-2.06-.94 2.06-2.06.94z\"/><path d=\"M17.41 7.96l-1.37-1.37c-.4-.4-.92-.59-1.43-.59-.52 0-1.04.2-1.43.59L10.3 9.45l-7.72 7.72c-.78.78-.78 2.05 0 2.83L4 21.41c.39.39.9.59 1.41.59.51 0 1.02-.2 1.41-.59l7.78-7.78 2.81-2.81c.8-.78.8-2.07 0-2.86zM5.41 20L4 18.59l7.72-7.72 1.47 1.35L5.41 20z\"/>\n",
              "  </svg>\n",
              "      </button>\n",
              "      \n",
              "  <style>\n",
              "    .colab-df-container {\n",
              "      display:flex;\n",
              "      flex-wrap:wrap;\n",
              "      gap: 12px;\n",
              "    }\n",
              "\n",
              "    .colab-df-convert {\n",
              "      background-color: #E8F0FE;\n",
              "      border: none;\n",
              "      border-radius: 50%;\n",
              "      cursor: pointer;\n",
              "      display: none;\n",
              "      fill: #1967D2;\n",
              "      height: 32px;\n",
              "      padding: 0 0 0 0;\n",
              "      width: 32px;\n",
              "    }\n",
              "\n",
              "    .colab-df-convert:hover {\n",
              "      background-color: #E2EBFA;\n",
              "      box-shadow: 0px 1px 2px rgba(60, 64, 67, 0.3), 0px 1px 3px 1px rgba(60, 64, 67, 0.15);\n",
              "      fill: #174EA6;\n",
              "    }\n",
              "\n",
              "    [theme=dark] .colab-df-convert {\n",
              "      background-color: #3B4455;\n",
              "      fill: #D2E3FC;\n",
              "    }\n",
              "\n",
              "    [theme=dark] .colab-df-convert:hover {\n",
              "      background-color: #434B5C;\n",
              "      box-shadow: 0px 1px 3px 1px rgba(0, 0, 0, 0.15);\n",
              "      filter: drop-shadow(0px 1px 2px rgba(0, 0, 0, 0.3));\n",
              "      fill: #FFFFFF;\n",
              "    }\n",
              "  </style>\n",
              "\n",
              "      <script>\n",
              "        const buttonEl =\n",
              "          document.querySelector('#df-a02f2769-a39c-4371-a3e2-ad7c27a0ba7f button.colab-df-convert');\n",
              "        buttonEl.style.display =\n",
              "          google.colab.kernel.accessAllowed ? 'block' : 'none';\n",
              "\n",
              "        async function convertToInteractive(key) {\n",
              "          const element = document.querySelector('#df-a02f2769-a39c-4371-a3e2-ad7c27a0ba7f');\n",
              "          const dataTable =\n",
              "            await google.colab.kernel.invokeFunction('convertToInteractive',\n",
              "                                                     [key], {});\n",
              "          if (!dataTable) return;\n",
              "\n",
              "          const docLinkHtml = 'Like what you see? Visit the ' +\n",
              "            '<a target=\"_blank\" href=https://colab.research.google.com/notebooks/data_table.ipynb>data table notebook</a>'\n",
              "            + ' to learn more about interactive tables.';\n",
              "          element.innerHTML = '';\n",
              "          dataTable['output_type'] = 'display_data';\n",
              "          await google.colab.output.renderOutput(dataTable, element);\n",
              "          const docLink = document.createElement('div');\n",
              "          docLink.innerHTML = docLinkHtml;\n",
              "          element.appendChild(docLink);\n",
              "        }\n",
              "      </script>\n",
              "    </div>\n",
              "  </div>\n",
              "  "
            ]
          },
          "metadata": {},
          "execution_count": 7
        }
      ],
      "source": [
        "A"
      ]
    },
    {
      "cell_type": "code",
      "execution_count": 8,
      "metadata": {
        "id": "n5x5Z7FA8HDW",
        "colab": {
          "base_uri": "https://localhost:8080/"
        },
        "outputId": "03b97909-dfe7-4d1f-92e6-f12559b9fac1"
      },
      "outputs": [
        {
          "output_type": "stream",
          "name": "stdout",
          "text": [
            "                  time\n",
            "0  2022-01-01 00:00:00\n",
            "1  2022-01-01 00:30:00\n",
            "2  2022-01-01 01:00:00\n",
            "3  2022-01-01 01:30:00\n",
            "4  2022-01-01 02:00:00\n",
            "5  2022-01-01 02:30:00\n",
            "6  2022-01-01 03:00:00\n",
            "7  2022-01-01 03:30:00\n",
            "8  2022-01-01 04:00:00\n",
            "9  2022-01-01 04:30:00\n",
            "10 2022-01-01 05:00:00\n",
            "11 2022-01-01 05:30:00\n",
            "12 2022-01-01 06:00:00\n",
            "13 2022-01-01 06:30:00\n",
            "14 2022-01-01 07:00:00\n",
            "15 2022-01-01 07:30:00\n",
            "16 2022-01-01 08:00:00\n",
            "17 2022-01-01 08:30:00\n",
            "18 2022-01-01 09:00:00\n",
            "19 2022-01-01 09:30:00\n",
            "20 2022-01-01 10:00:00\n",
            "21 2022-01-01 10:30:00\n",
            "22 2022-01-01 11:00:00\n",
            "23 2022-01-01 11:30:00\n",
            "24 2022-01-01 12:00:00\n",
            "25 2022-01-01 12:30:00\n",
            "26 2022-01-01 13:00:00\n",
            "27 2022-01-01 13:30:00\n",
            "28 2022-01-01 14:00:00\n",
            "29 2022-01-01 14:30:00\n",
            "30 2022-01-01 15:00:00\n",
            "31 2022-01-01 15:30:00\n",
            "32 2022-01-01 16:00:00\n",
            "33 2022-01-01 16:30:00\n",
            "34 2022-01-01 17:00:00\n",
            "35 2022-01-01 17:30:00\n",
            "36 2022-01-01 18:00:00\n",
            "37 2022-01-01 18:30:00\n",
            "38 2022-01-01 19:00:00\n",
            "39 2022-01-01 19:30:00\n",
            "40 2022-01-01 20:00:00\n",
            "41 2022-01-01 20:30:00\n",
            "42 2022-01-01 21:00:00\n",
            "43 2022-01-01 21:30:00\n",
            "44 2022-01-01 22:00:00\n",
            "45 2022-01-01 22:30:00\n",
            "46 2022-01-01 23:00:00\n",
            "47 2022-01-01 23:30:00\n"
          ]
        }
      ],
      "source": [
        "import itertools\n",
        "\n",
        "\n",
        "year_list = []\n",
        "month_list = []\n",
        "day_list = []\n",
        "hour_list = []\n",
        "minute_list = []\n",
        "min_timeinterval = 30\n",
        "\n",
        "for combination in itertools.product([2022],[1],[1],list(range(0,24)), [0,30]): # we define a dummy day 2022/01/01 but we are only interested in the time from 0h to 24h\n",
        "        #print(combination) \n",
        "        year_list.append( combination[0] )\n",
        "        month_list.append( combination[1] )\n",
        "        day_list.append( combination[2] )\n",
        "        hour_list.append( combination[3] )\n",
        "        minute_list.append( combination[4] )\n",
        "\n",
        "\n",
        "data = {'year':year_list,\n",
        "                'month':month_list,\n",
        "                'day':day_list,\n",
        "                'hour':hour_list,\n",
        "                'minute':minute_list,\n",
        "                }\n",
        "\n",
        "fullday_df = pd.DataFrame(data=data)\n",
        "\n",
        "fullday_df['time'] = pd.to_datetime( fullday_df[['year', 'month', 'day', 'hour', 'minute']])\n",
        "fullday_df = fullday_df.drop(columns=['year', 'month', 'day', 'hour', 'minute'])\n",
        "print(fullday_df)"
      ]
    },
    {
      "cell_type": "markdown",
      "metadata": {
        "id": "NeZX6Lv98O5P"
      },
      "source": [
        "# Create Training dataset"
      ]
    },
    {
      "cell_type": "markdown",
      "metadata": {
        "id": "tZo_GYxa8YK9"
      },
      "source": [
        "In this subsection, we will create the output for one day: we now want to create the targets and inputs for our training.\n",
        "Inputs will be:\n",
        "1. the type of day (= 0 for monday, ... 6 for sunday)\n",
        "2. the consumption on the previous day\n",
        "3. the consumption on the day before the previous day\n",
        "4. the consumption 3 days before\n",
        "\n",
        "Outputs will be:\n",
        "a vector of 96 elements, corresponding to all the quarters in a day. these elements will thus correspond to a timeslot in the day. the first element corresponds to 0:00:00, the second one to 00:00:15  and so on...\n",
        "These elements will be equal to 1 if the EV is charging at the corresponding time, 0 otherwise."
      ]
    },
    {
      "cell_type": "code",
      "execution_count": 9,
      "metadata": {
        "id": "j0Z27tyU8Uw8",
        "colab": {
          "base_uri": "https://localhost:8080/"
        },
        "outputId": "56bcd332-b24a-4f31-bf1a-bf8d3af7d148"
      },
      "outputs": [
        {
          "output_type": "stream",
          "name": "stdout",
          "text": [
            "Looking in indexes: https://pypi.org/simple, https://us-python.pkg.dev/colab-wheels/public/simple/\n",
            "Requirement already satisfied: numpy in /usr/local/lib/python3.7/dist-packages (1.21.6)\n",
            "Looking in indexes: https://pypi.org/simple, https://us-python.pkg.dev/colab-wheels/public/simple/\n",
            "Requirement already satisfied: matplotlib in /usr/local/lib/python3.7/dist-packages (3.2.2)\n",
            "Requirement already satisfied: numpy>=1.11 in /usr/local/lib/python3.7/dist-packages (from matplotlib) (1.21.6)\n",
            "Requirement already satisfied: kiwisolver>=1.0.1 in /usr/local/lib/python3.7/dist-packages (from matplotlib) (1.4.4)\n",
            "Requirement already satisfied: python-dateutil>=2.1 in /usr/local/lib/python3.7/dist-packages (from matplotlib) (2.8.2)\n",
            "Requirement already satisfied: pyparsing!=2.0.4,!=2.1.2,!=2.1.6,>=2.0.1 in /usr/local/lib/python3.7/dist-packages (from matplotlib) (3.0.9)\n",
            "Requirement already satisfied: cycler>=0.10 in /usr/local/lib/python3.7/dist-packages (from matplotlib) (0.11.0)\n",
            "Requirement already satisfied: typing-extensions in /usr/local/lib/python3.7/dist-packages (from kiwisolver>=1.0.1->matplotlib) (4.1.1)\n",
            "Requirement already satisfied: six>=1.5 in /usr/local/lib/python3.7/dist-packages (from python-dateutil>=2.1->matplotlib) (1.15.0)\n"
          ]
        }
      ],
      "source": [
        "# first let's convert the data into numpy arrays\n",
        "from datetime import datetime\n",
        "!pip install numpy\n",
        "import numpy as np\n",
        "!pip install matplotlib"
      ]
    },
    {
      "cell_type": "code",
      "execution_count": 10,
      "metadata": {
        "id": "CcOi6pw48bve"
      },
      "outputs": [],
      "source": [
        "# 30 minutes interval\n",
        "PP = A['value'].to_numpy()\n",
        "\n",
        "tt = []\n",
        "tt = A['time'].to_numpy()\n",
        "\n",
        "Power = []\n",
        "timearray = []\n",
        "\n",
        "length = A['time'].size\n",
        "num_of_30 = int(length/30)\n",
        "loop = 0\n",
        "\n",
        "for i in range (num_of_30):\n",
        "  timearray.append(tt[loop*30])\n",
        "  Power.append(sum(PP[loop*30:loop*30+30]))\n",
        "  loop = loop+1\n",
        "timearray = np.array(timearray)\n",
        "Power = np.array(Power)"
      ]
    },
    {
      "cell_type": "code",
      "source": [
        "# Normalization\n",
        "Power = Power/12000"
      ],
      "metadata": {
        "id": "N43hkD-pcaNQ"
      },
      "execution_count": 12,
      "outputs": []
    },
    {
      "cell_type": "code",
      "source": [
        "timearray_fullday = []\n",
        "timearray_fullday = fullday_df['time'].to_numpy()\n",
        "Day_type = A['day_of_week'].to_numpy()"
      ],
      "metadata": {
        "id": "8M16szI4-Y-R"
      },
      "execution_count": 13,
      "outputs": []
    },
    {
      "cell_type": "code",
      "source": [
        "timearray"
      ],
      "metadata": {
        "colab": {
          "base_uri": "https://localhost:8080/"
        },
        "id": "3dzy4eV0-aOd",
        "outputId": "9769d81f-5569-4217-f705-251159652d54"
      },
      "execution_count": 14,
      "outputs": [
        {
          "output_type": "execute_result",
          "data": {
            "text/plain": [
              "array(['2021-02-01T00:00:00.000000000', '2021-02-01T00:30:00.000000000',\n",
              "       '2021-02-01T01:00:00.000000000', ...,\n",
              "       '2021-04-30T22:30:00.000000000', '2021-04-30T23:00:00.000000000',\n",
              "       '2021-04-30T23:30:00.000000000'], dtype='datetime64[ns]')"
            ]
          },
          "metadata": {},
          "execution_count": 14
        }
      ]
    },
    {
      "cell_type": "code",
      "execution_count": 15,
      "metadata": {
        "id": "tFghvAAN8egk",
        "colab": {
          "base_uri": "https://localhost:8080/"
        },
        "outputId": "60fd2734-c7a9-4303-ea65-b5d7a26048f7"
      },
      "outputs": [
        {
          "output_type": "stream",
          "name": "stdout",
          "text": [
            "(88, 4)\n",
            "(88, 48)\n"
          ]
        }
      ],
      "source": [
        "# 30 minutes interval\n",
        "from datetime import timedelta\n",
        "# conversion des dates, et on enleve les lignes qui n'etaient pas bonnes (time not in a date format, or just some space instaead of time)\n",
        "# We create the training (input and target) dataset:\n",
        "\n",
        "Allday_output = np.empty((48,0),int)\n",
        "input = np.empty((4,0))\n",
        "# min_timeinterval = 30\n",
        "# we create a function that generates a vector with 48 elements, with 1 when the car was charging, 0 when it was not.\n",
        "def generate_daily_profile(power,data_time, time_fullday ):\n",
        "    out_profile = []\n",
        "    index = 0\n",
        "    for element in time_fullday:\n",
        "        element = element - np.timedelta64(round((element - data_time[0])/np.timedelta64(1, 'D')),'D') #we change the year month and day of the reference time array for full day\n",
        "        if (index < data_time.size) and (abs(data_time[index] - element)/np.timedelta64(1, 's') < min_timeinterval/2):  #if the time we have here is in the input data_time array, this means we are charging\n",
        "            out_profile.append(power[index])\n",
        "            index = index+1\n",
        "        else:\n",
        "            out_profile.append(0)\n",
        "\n",
        "    return out_profile, index\n",
        "\n",
        "#first, we must identify the number of days\n",
        "nb_day = 0\n",
        "previous_element = timearray[0]\n",
        "for element in timearray:\n",
        "    if element.astype('M8[D]') != previous_element.astype('M8[D]'):\n",
        "        if nb_day>=29:\n",
        "            temp=0\n",
        "        nb_day = nb_day +1\n",
        "    previous_element = element\n",
        "\n",
        "previous_element = timearray[0]\n",
        "idx_timearray = 0\n",
        "previous_idx_timearray = 0\n",
        "count = 0\n",
        "consumption_d3 = 0  # consumption of the day -3\n",
        "consumption_d2 = 0  # consumption of the day -2\n",
        "consumption_d1 = 0  # consumption of the day -1\n",
        "\n",
        "\n",
        "for day in range(nb_day):\n",
        "    # print(day)\n",
        "    if day >=20:\n",
        "        temp = 0\n",
        "    for idx in range(49):#  element in timearray: # we will go through the end user data\n",
        "        # print(idx)\n",
        "\n",
        "        if timearray[idx+idx_timearray].astype('M8[D]') != previous_element.astype('M8[D]'):\n",
        "            # dailyprofile_power,current_index = generate_daily_profile(Power[idx_timearray:idx_timearray+idx],timearray[idx_timearray:idx_timearray+idx], timearray_fullday )\n",
        "            #********************************************************************************\n",
        "            data_time = timearray[idx_timearray:idx_timearray+idx]\n",
        "            power = Power[idx_timearray:idx_timearray+idx]\n",
        "            time_fullday = timearray_fullday \n",
        "            out_profile = []\n",
        "            index = 0\n",
        "            for element in time_fullday:\n",
        "                \n",
        "                element = element - np.timedelta64(round((element - data_time[min(index,data_time.size-1)])/np.timedelta64(1, 'D')),'D') #we change the year month and day of the reference time array for full day\n",
        "                if (index < data_time.size) and (abs(data_time[index] - element)/np.timedelta64(1, 's') < min_timeinterval/2):  #if the time we have here is in the input data_time array, this means we are charging\n",
        "                    out_profile.append(power[index])\n",
        "                    index = index+1\n",
        "                else:\n",
        "                    out_profile.append(0)\n",
        "\n",
        "            dailyprofile_power = out_profile\n",
        "            current_index = index\n",
        "\n",
        "\n",
        "            #****************************************************************************\n",
        "            c = np.datetime_as_string(timearray_fullday, timezone='UTC')\n",
        "            # df_c = pd.DataFrame(c, columns = ['time'])\n",
        "            # df_c['power'] = dailyprofile_power\n",
        "            # df_c.to_csv('daily_profile.csv')\n",
        "            input = np.c_[input, [Day_type[idx_timearray*30],consumption_d1,consumption_d2,consumption_d3] ]\n",
        "            consumption_d3 = consumption_d2\n",
        "            consumption_d2 = consumption_d1\n",
        "            consumption_d1 = sum(dailyprofile_power)\n",
        "            # print(input[0])\n",
        "            Allday_output = np.c_[Allday_output,dailyprofile_power]\n",
        "            idx_timearray = idx_timearray + current_index\n",
        "            break\n",
        "            \n",
        "        previous_element = timearray[idx_timearray]\n",
        "   \n",
        "    previous_element = timearray[idx_timearray]\n",
        "\n",
        "df_c = pd.DataFrame(input)\n",
        "df_c.to_csv('inputsSubstation.csv')\n",
        "df_c = pd.DataFrame(Allday_output)\n",
        "df_c.to_csv('outputsSubstation.csv')\n",
        "target = np.transpose(Allday_output)\n",
        "# print(target.shape)\n",
        "input = np.transpose(input)\n",
        "print(input.shape)\n",
        "print(target.shape)"
      ]
    },
    {
      "cell_type": "code",
      "source": [
        "# Remove weekends and the first three days\n",
        "Input = []\n",
        "Target = []\n",
        "number = int(input.size/input[0].size)\n",
        "for i in range(number):\n",
        "  if (i!=0)and(i!=1)and(i!=2)and(input[i][0]!=5)and(input[i][0]!=6):\n",
        "    Input.append(input[i])\n",
        "    Target.append(target[i])\n",
        "Input = pd.DataFrame(Input)\n",
        "Target = pd.DataFrame(Target)\n",
        "Input = Input.values\n",
        "Target = Target.values"
      ],
      "metadata": {
        "id": "fw6Wh1mCZYiv"
      },
      "execution_count": 16,
      "outputs": []
    },
    {
      "cell_type": "markdown",
      "metadata": {
        "id": "ePDeI8nA8nAV"
      },
      "source": [
        "# Let's try some AI forecast !"
      ]
    },
    {
      "cell_type": "markdown",
      "metadata": {
        "id": "o1XkvuWz8sX9"
      },
      "source": [
        "First, we need to split the data between train and test"
      ]
    },
    {
      "cell_type": "code",
      "execution_count": 17,
      "metadata": {
        "id": "sxlQREZ28vr2",
        "colab": {
          "base_uri": "https://localhost:8080/"
        },
        "outputId": "3e831f16-935d-4cc4-a66c-7f3c11e8530d"
      },
      "outputs": [
        {
          "output_type": "stream",
          "name": "stdout",
          "text": [
            "Looking in indexes: https://pypi.org/simple, https://us-python.pkg.dev/colab-wheels/public/simple/\n",
            "Requirement already satisfied: sklearn in /usr/local/lib/python3.7/dist-packages (0.0)\n",
            "Requirement already satisfied: scikit-learn in /usr/local/lib/python3.7/dist-packages (from sklearn) (1.0.2)\n",
            "Requirement already satisfied: joblib>=0.11 in /usr/local/lib/python3.7/dist-packages (from scikit-learn->sklearn) (1.1.0)\n",
            "Requirement already satisfied: threadpoolctl>=2.0.0 in /usr/local/lib/python3.7/dist-packages (from scikit-learn->sklearn) (3.1.0)\n",
            "Requirement already satisfied: numpy>=1.14.6 in /usr/local/lib/python3.7/dist-packages (from scikit-learn->sklearn) (1.21.6)\n",
            "Requirement already satisfied: scipy>=1.1.0 in /usr/local/lib/python3.7/dist-packages (from scikit-learn->sklearn) (1.7.3)\n"
          ]
        }
      ],
      "source": [
        "!pip install sklearn\n",
        "from sklearn.preprocessing import LabelEncoder\n",
        "from sklearn.model_selection import train_test_split\n",
        "\n",
        "X_train, X_test, y_train, y_test = train_test_split(Input,Target,test_size=0.4,shuffle=True)\n"
      ]
    },
    {
      "cell_type": "markdown",
      "metadata": {
        "id": "EnsgVTwoZO2M"
      },
      "source": [
        "Now, we will train different models.\n",
        "You are asked to test them on different days by changing the variable nb_day_test for each model. The nb_day_test boundary depends on the user you chose."
      ]
    },
    {
      "cell_type": "code",
      "execution_count": 18,
      "metadata": {
        "id": "KBpRWXHrarLJ",
        "colab": {
          "base_uri": "https://localhost:8080/"
        },
        "outputId": "ad3848d4-0ab4-40aa-a5a5-0efe7351f325"
      },
      "outputs": [
        {
          "output_type": "execute_result",
          "data": {
            "text/plain": [
              "array([[ 0.        , 85.34864583, 97.69508333, 90.51491667]])"
            ]
          },
          "metadata": {},
          "execution_count": 18
        }
      ],
      "source": [
        "from sklearn import tree\n",
        "import calendar\n",
        "import matplotlib.pyplot as plt\n",
        "from matplotlib.pyplot import figure\n",
        "\n",
        "\n",
        "model = tree.DecisionTreeRegressor()\n",
        "model = model.fit(X_train,y_train)\n",
        "\n",
        "nb_day_test = 15\n",
        "X_test[nb_day_test:nb_day_test+1,:]\n",
        "AA = X_test[nb_day_test:nb_day_test+1,:]\n",
        "y = model.predict(AA)\n",
        "AA"
      ]
    },
    {
      "cell_type": "code",
      "execution_count": 19,
      "metadata": {
        "id": "-8a4r7m5ciVj",
        "colab": {
          "base_uri": "https://localhost:8080/"
        },
        "outputId": "c5ed07ee-e7f5-46b8-9878-8d080f6ddc5b"
      },
      "outputs": [
        {
          "output_type": "execute_result",
          "data": {
            "text/plain": [
              "array([[1.37314583, 1.9305    , 1.50383333, 1.5506875 , 1.33704167,\n",
              "        1.29470833, 1.7954375 , 1.4645625 , 1.90154167, 1.45916667,\n",
              "        1.48941667, 1.57716667, 2.04460417, 2.78972917, 2.253     ,\n",
              "        3.13279167, 2.25691667, 2.08239583, 2.28589583, 1.61204167,\n",
              "        1.482875  , 2.21872917, 1.68533333, 1.47925   , 1.13779167,\n",
              "        1.71110417, 1.34139583, 1.85666667, 2.15083333, 1.48470833,\n",
              "        2.210625  , 3.45983333, 2.84052083, 2.66391667, 1.49633333,\n",
              "        1.18160417, 1.18366667, 1.25670833, 1.919375  , 2.08377083,\n",
              "        1.77477083, 1.2826875 , 2.10772917, 1.32625   , 0.87420833,\n",
              "        1.31608333, 1.0875625 , 0.8114375 ]])"
            ]
          },
          "metadata": {},
          "execution_count": 19
        }
      ],
      "source": [
        "y"
      ]
    },
    {
      "cell_type": "code",
      "execution_count": 20,
      "metadata": {
        "id": "jXM1wyJOcoGk"
      },
      "outputs": [],
      "source": [
        "time_str = []\n",
        "for element in timearray_fullday:\n",
        "    time_str.append(str(element)[-18:-13])\n"
      ]
    },
    {
      "cell_type": "markdown",
      "metadata": {
        "id": "l_J56vfx8ygQ"
      },
      "source": [
        "# Decision Tree"
      ]
    },
    {
      "cell_type": "code",
      "source": [
        "range_1 = 5 # Use every two weeks of data to train the model for each time\n",
        "range_2 = range_1 + 1 # Forcast the next day, so totally 15 days\n",
        "model = tree.DecisionTreeRegressor(criterion=\"squared_error\",max_depth = 1,min_samples_split = 2, min_samples_leaf = 6, random_state = 60) # MSE/MAE\n",
        "# model = tree.DecisionTreeRegressor(criterion=\"absolute_error\",max_depth = 1,min_samples_split = 2, min_samples_leaf = 3, random_state = 60) # MAPE\n",
        "\n",
        "X = [] # Collect the test arrays\n",
        "Y = [] # Collect the predict arrays\n",
        "Y_test = [] # Collect the real arrays\n",
        "size_2 = int(Input.size/Input[0].size) - range_1\n",
        "# size_2 = 20\n",
        "for i in range(size_2):\n",
        "  # X_train, X_test, y_train, y_test = train_test_split(input_test[i:i+range_2],target_test[i:i+range_2],test_size=1/(range_2),shuffle=False)\n",
        "  X_train, X_test, y_train, y_test = train_test_split(Input[i:i+range_2],Target[i:i+range_2],test_size=1/(range_2),shuffle=False)\n",
        "  model = model.fit(X_train,y_train)\n",
        "  y = model.predict(X_test)\n",
        "  X.append(X_test)\n",
        "  Y.append(y)\n",
        "  Y_test.append(y_test)\n",
        "\n",
        "\n",
        "MSE = [] # mean square error\n",
        "MAE = [] # mean absolute error \n",
        "average_MSE = []\n",
        "average_MAE = []\n",
        "\n",
        "MAPE = []\n",
        "average_MAPE = []\n",
        "\n",
        "for i in range(size_2):\n",
        "  # Denormalization\n",
        "  # Y[i] = Y[i]*12000 # method_2\n",
        "  # Y_test[i] = Y_test[i]*12000\n",
        "\n",
        "  MSE.append(pow((Y[i] - Y_test[i]),2)) # mean square error\n",
        "  MAE.append(abs(Y[i] - Y_test[i])) # mean absolute error\n",
        "  average_MSE.append(sum(sum(MSE[i])) / MSE[i].size)\n",
        "  average_MAE.append(sum(sum(MAE[i])) / MAE[i].size)\n",
        "  MAPE.append(abs(Y[i] - Y_test[i])/Y_test[i]) # mean absolute percent error\n",
        "  average_MAPE.append(sum(sum(MAPE[i])) / MAPE[i].size)\n",
        "\n",
        "X_MSE = []\n",
        "X_MAE = []\n",
        "for i in range(size_2):\n",
        "  X_MSE.append(i)\n",
        "  X_MAE.append(i)\n",
        "\n",
        "plt.figure(facecolor='w', figsize=(8, 6), dpi=80) # frame\n",
        "\n",
        "# Show the results of all predicted MSEs and MAEs.\n",
        "plt.plot(X_MSE, average_MSE)\n",
        "plt.plot(X_MAE, average_MAE)\n",
        "print(sum(average_MSE))\n",
        "print(sum(average_MAE))\n",
        "print(\"The  average MSE of decision tree is: \",sum(average_MSE)/size_2)\n",
        "print(\"The  average MAE of decision tree is: \",sum(average_MAE)/size_2)\n",
        "print(\"average MAPE of all days: \", sum(average_MAPE)/size_2)\n",
        "# plt.plot(time_str, MSE[number-1][0], label='MSE '+calendar.day_name[int(X[number-1][0,0])])\n",
        "# plt.plot(time_str, MAE[number-1][0], label='MAE '+calendar.day_name[int(X[number-1][0,0])])\n",
        "# x_ticks = np.arange(0, 96, 12)\n",
        "# plt.xticks(x_ticks)\n",
        "# ax = plt.gca()\n",
        "# ax.set_facecolor('w')\n",
        "# plt.legend()\n",
        "# plt.show()"
      ],
      "metadata": {
        "id": "nCDZ7E6gz1zy",
        "colab": {
          "base_uri": "https://localhost:8080/",
          "height": 500
        },
        "outputId": "9a482831-6420-4dec-a0fd-542b30225961"
      },
      "execution_count": 21,
      "outputs": [
        {
          "output_type": "stream",
          "name": "stdout",
          "text": [
            "22.904472295043774\n",
            "25.78394696180556\n",
            "The  average MSE of decision tree is:  0.4090084338400674\n",
            "The  average MAE of decision tree is:  0.4604276243179565\n",
            "average MAPE of all days:  0.24192364446723394\n"
          ]
        },
        {
          "output_type": "display_data",
          "data": {
            "text/plain": [
              "<Figure size 640x480 with 1 Axes>"
            ],
            "image/png": "[encoded data removed]"
          },
          "metadata": {}
        }
      ]
    },
    {
      "cell_type": "code",
      "source": [
        "# Forcasting the power conpusmption of the given day.\n",
        "\n",
        "number = 19\n",
        "plt.figure(facecolor='w', figsize=(8, 6), dpi=80) # frame\n",
        "# plot\n",
        "plt.plot(time_str,Y[number-1][0], label='Load Prediction for '+calendar.day_name[int(X[number-1][0,0])]) \n",
        "\n",
        "plt.plot(time_str,Y_test[number-1][0], label='Real Consumption for '+calendar.day_name[int(X[number-1][0,0])])\n",
        "# beautify the x-labels\n",
        "# plt.gcf().autofmt_xtime()\n",
        "plt.xticks(rotation=30) # Rotate 30 degrees\n",
        "\n",
        "\n",
        "x_ticks = np.arange(0, 48, 12) \n",
        "plt.xticks(x_ticks)\n",
        "ax = plt.gca()\n",
        "ax.set_facecolor('w') \n",
        "plt.legend()\n",
        "plt.show()"
      ],
      "metadata": {
        "id": "EAbUq9M75TEH",
        "colab": {
          "base_uri": "https://localhost:8080/",
          "height": 427
        },
        "outputId": "1a38039d-4d82-4470-dcf1-6aa7371237f5"
      },
      "execution_count": 22,
      "outputs": [
        {
          "output_type": "display_data",
          "data": {
            "text/plain": [
              "<Figure size 640x480 with 1 Axes>"
            ],
            "image/png": "[encoded data removed]"
          },
          "metadata": {}
        }
      ]
    },
    {
      "cell_type": "code",
      "source": [
        "# # grid search (for the other method: 14+1)\n",
        "ii = 0\n",
        "jj = 0\n",
        "kk = 0\n",
        "\n",
        "i = 0\n",
        "min = 1\n",
        "range_1 = 5\n",
        "range_2 = range_1+1\n",
        "size_2 = int(Input.size/Input[0].size) - range_1\n",
        "\n",
        "for i in range(1,2,1):\n",
        "  for j in range(2,3,1):\n",
        "    for k in range(3,4,1):\n",
        "      S = 0\n",
        "      # model=tree.DecisionTreeRegressor(criterion=\"squared_error\",max_depth = i,min_samples_split = j, min_samples_leaf = k, random_state = 60) # squared_error, absolute_error ,max_depth = 3,random_state = 20\n",
        "      model=tree.DecisionTreeRegressor(criterion=\"absolute_error\",max_depth = i,min_samples_split = j, min_samples_leaf = k, random_state = 60) # squared_error, absolute_error\n",
        "      for num in range(size_2):\n",
        "        X_train, X_test, y_train, y_test = train_test_split(Input[num:num+range_2],Target[num:num+range_2],test_size=1/(range_2),shuffle=False)\n",
        "        MSE = []\n",
        "        MAPE = []\n",
        "        model.fit(X_train,y_train)\n",
        "        Y = model.predict(X_test)\n",
        "        # MSE = pow((Y - y_test),2) # New definition of the score\n",
        "        # S = S + sum(sum(MSE))/MSE.size      \n",
        "        MAPE = abs(Y - y_test)/y_test # mean absolute percent error\n",
        "        S = S + sum(sum(MAPE))/MAPE.size\n",
        "      print(i,j,k,S/size_2)\n",
        "      if min > S/size_2:\n",
        "        ii = i\n",
        "        jj = j\n",
        "        kk = k\n",
        "        min = S/size_2\n",
        "\n",
        "print(ii,jj,kk,min)  "
      ],
      "metadata": {
        "id": "4GRwsCJpT4Or",
        "colab": {
          "base_uri": "https://localhost:8080/"
        },
        "outputId": "541f29f1-d1b0-463a-aef3-f7ca257f87ea"
      },
      "execution_count": null,
      "outputs": [
        {
          "output_type": "stream",
          "name": "stdout",
          "text": [
            "1 2 3 0.2606952237806903\n",
            "1 2 3 0.2606952237806903\n"
          ]
        }
      ]
    },
    {
      "cell_type": "code",
      "source": [
        "# 1 2 6 0.41226617618800376"
      ],
      "metadata": {
        "id": "W-m6lIQ8LZYE"
      },
      "execution_count": null,
      "outputs": []
    },
    {
      "cell_type": "markdown",
      "metadata": {
        "id": "L7D2wC2hcGEE"
      },
      "source": [
        "# Random Forest"
      ]
    },
    {
      "cell_type": "code",
      "source": [
        "!pip install sklearn\n",
        "from sklearn.preprocessing import LabelEncoder\n",
        "from sklearn.model_selection import train_test_split\n",
        "\n",
        "X_train, X_test, y_train, y_test = train_test_split(Input,Target,test_size=0.4,shuffle=True)\n"
      ],
      "metadata": {
        "id": "KsgZUgD0T_cP",
        "colab": {
          "base_uri": "https://localhost:8080/"
        },
        "outputId": "2f627c43-b466-454f-bc7d-ccaf5d80d9cf"
      },
      "execution_count": 23,
      "outputs": [
        {
          "output_type": "stream",
          "name": "stdout",
          "text": [
            "Looking in indexes: https://pypi.org/simple, https://us-python.pkg.dev/colab-wheels/public/simple/\n",
            "Requirement already satisfied: sklearn in /usr/local/lib/python3.7/dist-packages (0.0)\n",
            "Requirement already satisfied: scikit-learn in /usr/local/lib/python3.7/dist-packages (from sklearn) (1.0.2)\n",
            "Requirement already satisfied: numpy>=1.14.6 in /usr/local/lib/python3.7/dist-packages (from scikit-learn->sklearn) (1.21.6)\n",
            "Requirement already satisfied: scipy>=1.1.0 in /usr/local/lib/python3.7/dist-packages (from scikit-learn->sklearn) (1.7.3)\n",
            "Requirement already satisfied: threadpoolctl>=2.0.0 in /usr/local/lib/python3.7/dist-packages (from scikit-learn->sklearn) (3.1.0)\n",
            "Requirement already satisfied: joblib>=0.11 in /usr/local/lib/python3.7/dist-packages (from scikit-learn->sklearn) (1.1.0)\n"
          ]
        }
      ]
    },
    {
      "cell_type": "code",
      "execution_count": 24,
      "metadata": {
        "id": "xkNIsWgIcNJS"
      },
      "outputs": [],
      "source": [
        "from sklearn.ensemble import RandomForestRegressor\n",
        "model = RandomForestRegressor(n_estimators = 1000, max_depth = 5,min_samples_split = 69, min_samples_leaf = 18, random_state = 0) #n_estimators = number of trees in the forest  # To be changed\n",
        "# criterion=\"absolute_error\",max_depth = 5,min_samples_split = 69, min_samples_leaf = 18, random_state = 60\n",
        "model = model.fit(X_train,y_train)"
      ]
    },
    {
      "cell_type": "code",
      "source": [
        "range_1 = 5 # Use every two weeks of data to train the model for each time\n",
        "range_2 = range_1 + 1 # Forcast the next day, so totally 15 days\n",
        "model = RandomForestRegressor(n_estimators = 37, criterion=\"absolute_error\", max_depth = 1, min_samples_split = 2, min_samples_leaf = 3, random_state = 19) # MSE/MAE\n",
        "# model = RandomForestRegressor(n_estimators = 37, criterion=\"absolute_error\", max_depth = 1, min_samples_split = 2, min_samples_leaf = 3, random_state = 19) # MAPE   \n",
        "\n",
        "X = [] # Collect the test arrays\n",
        "Y = [] # Collect the predict arrays\n",
        "Y_test = [] # Collect the real arrays\n",
        "size_2 = int(Input.size/Input[0].size) - range_1\n",
        "# size_2 = 10\n",
        "score1 = 0\n",
        "score2 = 0\n",
        "for i in range(size_2):\n",
        "  # X_train, X_test, y_train, y_test = train_test_split(input_test[i:i+range_2],target_test[i:i+range_2],test_size=1/(range_2),shuffle=False)\n",
        "  X_train, X_test, y_train, y_test = train_test_split(Input[i:i+range_2],Target[i:i+range_2],test_size=1/(range_2),shuffle=False)\n",
        "  model = model.fit(X_train,y_train)\n",
        "  y = model.predict(X_test)\n",
        "  X.append(X_test)\n",
        "  Y.append(y)\n",
        "  Y_test.append(y_test)\n",
        "  # print(i)\n",
        "\n",
        "# Calculate the MSE and MAE for all predicted days\n",
        "\n",
        "MSE = [] # mean square error\n",
        "MAE = [] # mean absolute error \n",
        "average_MSE = []\n",
        "average_MAE = []\n",
        "\n",
        "MAPE = []\n",
        "average_MAPE = []\n",
        "\n",
        "for i in range(size_2):\n",
        "  # Denormalization\n",
        "  # Y[i] = Y[i]*12000 # method_2\n",
        "  # Y_test[i] = Y_test[i]*12000\n",
        "\n",
        "  MSE.append(pow((Y[i] - Y_test[i]),2)) # mean square error\n",
        "  MAE.append(abs(Y[i] - Y_test[i])) # mean absolute error\n",
        "  average_MSE.append(sum(sum(MSE[i])) / MSE[i].size)\n",
        "  average_MAE.append(sum(sum(MAE[i])) / MAE[i].size)\n",
        "\n",
        "  MAPE.append(abs(Y[i] - Y_test[i])/Y_test[i]) # mean absolute percent error\n",
        "  average_MAPE.append(sum(sum(MAPE[i])) / MAPE[i].size)\n",
        "\n",
        "\n",
        "X_MSE = []\n",
        "X_MAE = []\n",
        "for i in range(size_2):\n",
        "  X_MSE.append(i)\n",
        "  X_MAE.append(i)\n",
        "\n",
        "plt.figure(facecolor='w', figsize=(8, 6), dpi=80) # frame\n",
        "\n",
        "# Show the results of all predicted MSEs and MAEs.\n",
        "plt.plot(X_MSE, average_MSE)\n",
        "plt.plot(X_MAE, average_MAE)\n",
        "print(sum(average_MSE))\n",
        "print(sum(average_MAE))\n",
        "print(\"The  average MSE is: \",sum(average_MSE)/size_2)\n",
        "print(\"The  average MAE is: \",sum(average_MAE)/size_2)\n",
        "print(\"average MAPE of all days: \", sum(average_MAPE)/size_2)"
      ],
      "metadata": {
        "id": "TvVoi3CcIV2n",
        "colab": {
          "base_uri": "https://localhost:8080/",
          "height": 500
        },
        "outputId": "96da358a-9ce7-42ac-e987-b99b7f0115f4"
      },
      "execution_count": 25,
      "outputs": [
        {
          "output_type": "stream",
          "name": "stdout",
          "text": [
            "22.50975918673028\n",
            "25.311968145880265\n",
            "The  average MSE is:  0.4019599854773265\n",
            "The  average MAE is:  0.4519994311764333\n",
            "average MAPE of all days:  0.23473611564101834\n"
          ]
        },
        {
          "output_type": "display_data",
          "data": {
            "text/plain": [
              "<Figure size 640x480 with 1 Axes>"
            ],
            "image/png": "[encoded data removed]"
          },
          "metadata": {}
        }
      ]
    },
    {
      "cell_type": "code",
      "source": [
        "# Forcasting the power conpusmption of the given day.\n",
        "\n",
        "number = 21\n",
        "plt.figure(facecolor='w', figsize=(8, 6), dpi=80) # frame\n",
        "# plot\n",
        "plt.plot(time_str,Y[number-1][0], label='Load Prediction for '+calendar.day_name[int(X[number-1][0,0])]) \n",
        "\n",
        "plt.plot(time_str,Y_test[number-1][0], label='Real Consumption for '+calendar.day_name[int(X[number-1][0,0])])\n",
        "# beautify the x-labels\n",
        "# plt.gcf().autofmt_xtime()\n",
        "plt.xticks(rotation=30) # Rotate 30 degrees\n",
        "\n",
        "\n",
        "x_ticks = np.arange(0, 48, 12) \n",
        "plt.xticks(x_ticks)\n",
        "ax = plt.gca()\n",
        "ax.set_facecolor('w') \n",
        "plt.legend()\n",
        "plt.show()"
      ],
      "metadata": {
        "colab": {
          "base_uri": "https://localhost:8080/",
          "height": 427
        },
        "id": "HjfBDNp4jL19",
        "outputId": "66940ad8-7349-4df5-8c45-36cd4be2ff18"
      },
      "execution_count": 26,
      "outputs": [
        {
          "output_type": "display_data",
          "data": {
            "text/plain": [
              "<Figure size 640x480 with 1 Axes>"
            ],
            "image/png": "[encoded data removed]"
          },
          "metadata": {}
        }
      ]
    },
    {
      "cell_type": "code",
      "source": [
        "# # grid search (for the other method: 14+1)\n",
        "ii = 0\n",
        "jj = 0\n",
        "kk = 0\n",
        "ll = 0\n",
        "num_of_tree = []\n",
        "i = 0\n",
        "min = 1000\n",
        "range_1 = 20\n",
        "range_2 = range_1+1\n",
        "size_2 = int(Input.size/Input[0].size) - range_1\n",
        "\n",
        "for i in range(37,38,1):\n",
        "  for j in range(5,10,1):\n",
        "    for k in range(2,14,1):\n",
        "      for l in range(1,6,1):\n",
        "# for i in range(37,38,1):\n",
        "#   for j in range(1,2,2):\n",
        "#     for k in range(2,3,2):\n",
        "#       for l in range(3,4,1):\n",
        "        S = 0\n",
        "        # model = RandomForestRegressor(n_estimators = i, criterion=\"squared_error\", max_depth = j, min_samples_split = k, min_samples_leaf = 3, random_state = 86)    \n",
        "        # model = RandomForestRegressor(criterion=\"absolute_error\",n_estimators = i,max_depth = j,min_samples_split = k,min_samples_leaf = l,random_state = 19)    \n",
        "        model = RandomForestRegressor(criterion=\"squared_error\",n_estimators = i,max_depth = j,min_samples_split = k,min_samples_leaf = l,random_state = 19)    \n",
        "        for num in range(size_2):\n",
        "          X_train, X_test, y_train, y_test = train_test_split(Input[num:num+range_2],Target[num:num+range_2],test_size=1/(range_2),shuffle=False)\n",
        "          MSE = []\n",
        "          model.fit(X_train,y_train)\n",
        "          Y = model.predict(X_test)\n",
        "          MSE = pow((Y - y_test),2) # New definition of the score\n",
        "          S = S + sum(sum(MSE))/MSE.size\n",
        "          # MAPE = abs(Y - y_test)/y_test # mean absolute percent error\n",
        "          # S = S + sum(sum(MAPE))/MAPE.size\n",
        "        print(i,j,k,l,S/size_2)\n",
        "        num_of_tree.append(S/size_2)\n",
        "        if min > S/size_2:\n",
        "          ii = i\n",
        "          jj = j\n",
        "          kk = k\n",
        "          ll = l\n",
        "          min = S/size_2\n",
        "\n",
        "print(ii,jj,kk,ll,min)  \n"
      ],
      "metadata": {
        "colab": {
          "base_uri": "https://localhost:8080/"
        },
        "id": "w0tzUKnVcvd5",
        "outputId": "5da30817-0614-439b-9d44-4343bf3d5a4a"
      },
      "execution_count": null,
      "outputs": [
        {
          "output_type": "stream",
          "name": "stdout",
          "text": [
            "37 5 2 1 0.5837618131942575\n",
            "37 5 2 2 0.571519858179888\n",
            "37 5 2 3 0.563795364394227\n",
            "37 5 2 4 0.5626068701360072\n",
            "37 5 2 5 0.5673425722479262\n",
            "37 5 3 1 0.5797210242472883\n",
            "37 5 3 2 0.571519858179888\n",
            "37 5 3 3 0.563795364394227\n",
            "37 5 3 4 0.5626068701360072\n",
            "37 5 3 5 0.5673425722479262\n",
            "37 5 4 1 0.5820004387422669\n",
            "37 5 4 2 0.571519858179888\n",
            "37 5 4 3 0.563795364394227\n",
            "37 5 4 4 0.5626068701360072\n",
            "37 5 4 5 0.5673425722479262\n",
            "37 5 5 1 0.5793931872623117\n",
            "37 5 5 2 0.5701827471533611\n",
            "37 5 5 3 0.563795364394227\n",
            "37 5 5 4 0.5626068701360072\n",
            "37 5 5 5 0.5673425722479262\n",
            "37 5 6 1 0.5753905454413226\n",
            "37 5 6 2 0.5688010037386184\n",
            "37 5 6 3 0.563795364394227\n",
            "37 5 6 4 0.5626068701360072\n",
            "37 5 6 5 0.5673425722479262\n",
            "37 5 7 1 0.5742749523034819\n",
            "37 5 7 2 0.5687241728114358\n",
            "37 5 7 3 0.5608757244676585\n",
            "37 5 7 4 0.5626068701360072\n",
            "37 5 7 5 0.5673425722479262\n",
            "37 5 8 1 0.5684636587168929\n",
            "37 5 8 2 0.5654625597137981\n",
            "37 5 8 3 0.5581639708947468\n",
            "37 5 8 4 0.5626068701360072\n",
            "37 5 8 5 0.5673425722479262\n",
            "37 5 9 1 0.5680206752053717\n",
            "37 5 9 2 0.5616024159897003\n",
            "37 5 9 3 0.5561382057785578\n",
            "37 5 9 4 0.5625026821119057\n",
            "37 5 9 5 0.5673425722479262\n",
            "37 5 10 1 0.5644692256931818\n",
            "37 5 10 2 0.561998737226344\n",
            "37 5 10 3 0.5562863901581628\n",
            "37 5 10 4 0.5622984855011846\n",
            "37 5 10 5 0.5673425722479262\n",
            "37 5 11 1 0.5623058849979421\n",
            "37 5 11 2 0.5604727702526849\n",
            "37 5 11 3 0.5560340975234083\n",
            "37 5 11 4 0.5612367286982152\n",
            "37 5 11 5 0.5663299486074668\n",
            "37 5 12 1 0.5598958603910852\n",
            "37 5 12 2 0.560591087479136\n",
            "37 5 12 3 0.5562982284656947\n",
            "37 5 12 4 0.5587328184643857\n",
            "37 5 12 5 0.5652965194988439\n",
            "37 5 13 1 0.5612702923206155\n",
            "37 5 13 2 0.5613022915307104\n",
            "37 5 13 3 0.5583204665249849\n",
            "37 5 13 4 0.5587784716261819\n",
            "37 5 13 5 0.564766762444812\n",
            "37 6 2 1 0.5883648131059602\n",
            "37 6 2 2 0.5716170583369817\n",
            "37 6 2 3 0.563795364394227\n",
            "37 6 2 4 0.5626068701360072\n",
            "37 6 2 5 0.5673425722479262\n",
            "37 6 3 1 0.5792809576118596\n",
            "37 6 3 2 0.5716170583369817\n",
            "37 6 3 3 0.563795364394227\n",
            "37 6 3 4 0.5626068701360072\n",
            "37 6 3 5 0.5673425722479262\n",
            "37 6 4 1 0.5830840794186185\n",
            "37 6 4 2 0.5716170583369817\n",
            "37 6 4 3 0.563795364394227\n",
            "37 6 4 4 0.5626068701360072\n",
            "37 6 4 5 0.5673425722479262\n",
            "37 6 5 1 0.5797706681263856\n",
            "37 6 5 2 0.5701827471533611\n",
            "37 6 5 3 0.563795364394227\n",
            "37 6 5 4 0.5626068701360072\n",
            "37 6 5 5 0.5673425722479262\n",
            "37 6 6 1 0.5754757921810778\n",
            "37 6 6 2 0.5688010037386184\n",
            "37 6 6 3 0.563795364394227\n",
            "37 6 6 4 0.5626068701360072\n",
            "37 6 6 5 0.5673425722479262\n",
            "37 6 7 1 0.5743085051359853\n",
            "37 6 7 2 0.5687241728114358\n",
            "37 6 7 3 0.5608757244676585\n",
            "37 6 7 4 0.5626068701360072\n",
            "37 6 7 5 0.5673425722479262\n",
            "37 6 8 1 0.5684636587168929\n",
            "37 6 8 2 0.5654625597137981\n",
            "37 6 8 3 0.5581639708947468\n",
            "37 6 8 4 0.5626068701360072\n",
            "37 6 8 5 0.5673425722479262\n",
            "37 6 9 1 0.5680206752053717\n",
            "37 6 9 2 0.5616024159897003\n",
            "37 6 9 3 0.5561382057785578\n",
            "37 6 9 4 0.5625026821119057\n",
            "37 6 9 5 0.5673425722479262\n",
            "37 6 10 1 0.5644692256931818\n",
            "37 6 10 2 0.561998737226344\n",
            "37 6 10 3 0.5562863901581628\n",
            "37 6 10 4 0.5622984855011846\n",
            "37 6 10 5 0.5673425722479262\n",
            "37 6 11 1 0.5623058849979421\n",
            "37 6 11 2 0.5604727702526849\n",
            "37 6 11 3 0.5560340975234083\n",
            "37 6 11 4 0.5612367286982152\n",
            "37 6 11 5 0.5663299486074668\n",
            "37 6 12 1 0.5598958603910852\n",
            "37 6 12 2 0.560591087479136\n",
            "37 6 12 3 0.5562982284656947\n",
            "37 6 12 4 0.5587328184643857\n",
            "37 6 12 5 0.5652965194988439\n",
            "37 6 13 1 0.5612702923206155\n",
            "37 6 13 2 0.5613022915307104\n",
            "37 6 13 3 0.5583204665249849\n",
            "37 6 13 4 0.5587784716261819\n",
            "37 6 13 5 0.564766762444812\n",
            "37 7 2 1 0.5901851412099364\n",
            "37 7 2 2 0.5716170583369817\n",
            "37 7 2 3 0.563795364394227\n",
            "37 7 2 4 0.5626068701360072\n",
            "37 7 2 5 0.5673425722479262\n",
            "37 7 3 1 0.5807472240724263\n",
            "37 7 3 2 0.5716170583369817\n",
            "37 7 3 3 0.563795364394227\n",
            "37 7 3 4 0.5626068701360072\n",
            "37 7 3 5 0.5673425722479262\n",
            "37 7 4 1 0.5835532393828241\n",
            "37 7 4 2 0.5716170583369817\n",
            "37 7 4 3 0.563795364394227\n",
            "37 7 4 4 0.5626068701360072\n",
            "37 7 4 5 0.5673425722479262\n",
            "37 7 5 1 0.5797781360717342\n",
            "37 7 5 2 0.5701827471533611\n",
            "37 7 5 3 0.563795364394227\n",
            "37 7 5 4 0.5626068701360072\n",
            "37 7 5 5 0.5673425722479262\n",
            "37 7 6 1 0.5755018058704077\n",
            "37 7 6 2 0.5688010037386184\n",
            "37 7 6 3 0.563795364394227\n",
            "37 7 6 4 0.5626068701360072\n",
            "37 7 6 5 0.5673425722479262\n",
            "37 7 7 1 0.5743085051359853\n",
            "37 7 7 2 0.5687241728114358\n",
            "37 7 7 3 0.5608757244676585\n",
            "37 7 7 4 0.5626068701360072\n",
            "37 7 7 5 0.5673425722479262\n",
            "37 7 8 1 0.5684636587168929\n",
            "37 7 8 2 0.5654625597137981\n",
            "37 7 8 3 0.5581639708947468\n",
            "37 7 8 4 0.5626068701360072\n",
            "37 7 8 5 0.5673425722479262\n",
            "37 7 9 1 0.5680206752053717\n",
            "37 7 9 2 0.5616024159897003\n",
            "37 7 9 3 0.5561382057785578\n",
            "37 7 9 4 0.5625026821119057\n",
            "37 7 9 5 0.5673425722479262\n",
            "37 7 10 1 0.5644692256931818\n",
            "37 7 10 2 0.561998737226344\n",
            "37 7 10 3 0.5562863901581628\n",
            "37 7 10 4 0.5622984855011846\n",
            "37 7 10 5 0.5673425722479262\n",
            "37 7 11 1 0.5623058849979421\n",
            "37 7 11 2 0.5604727702526849\n",
            "37 7 11 3 0.5560340975234083\n",
            "37 7 11 4 0.5612367286982152\n",
            "37 7 11 5 0.5663299486074668\n",
            "37 7 12 1 0.5598958603910852\n",
            "37 7 12 2 0.560591087479136\n",
            "37 7 12 3 0.5562982284656947\n",
            "37 7 12 4 0.5587328184643857\n",
            "37 7 12 5 0.5652965194988439\n",
            "37 7 13 1 0.5612702923206155\n",
            "37 7 13 2 0.5613022915307104\n",
            "37 7 13 3 0.5583204665249849\n",
            "37 7 13 4 0.5587784716261819\n",
            "37 7 13 5 0.564766762444812\n",
            "37 8 2 1 0.5906024096902177\n",
            "37 8 2 2 0.5716170583369817\n",
            "37 8 2 3 0.563795364394227\n",
            "37 8 2 4 0.5626068701360072\n",
            "37 8 2 5 0.5673425722479262\n",
            "37 8 3 1 0.580617162018085\n",
            "37 8 3 2 0.5716170583369817\n",
            "37 8 3 3 0.563795364394227\n",
            "37 8 3 4 0.5626068701360072\n",
            "37 8 3 5 0.5673425722479262\n",
            "37 8 4 1 0.5835155338339898\n",
            "37 8 4 2 0.5716170583369817\n",
            "37 8 4 3 0.563795364394227\n",
            "37 8 4 4 0.5626068701360072\n",
            "37 8 4 5 0.5673425722479262\n",
            "37 8 5 1 0.5797781360717342\n",
            "37 8 5 2 0.5701827471533611\n",
            "37 8 5 3 0.563795364394227\n",
            "37 8 5 4 0.5626068701360072\n",
            "37 8 5 5 0.5673425722479262\n",
            "37 8 6 1 0.5755018058704077\n",
            "37 8 6 2 0.5688010037386184\n",
            "37 8 6 3 0.563795364394227\n",
            "37 8 6 4 0.5626068701360072\n",
            "37 8 6 5 0.5673425722479262\n",
            "37 8 7 1 0.5743085051359853\n",
            "37 8 7 2 0.5687241728114358\n",
            "37 8 7 3 0.5608757244676585\n",
            "37 8 7 4 0.5626068701360072\n",
            "37 8 7 5 0.5673425722479262\n",
            "37 8 8 1 0.5684636587168929\n",
            "37 8 8 2 0.5654625597137981\n",
            "37 8 8 3 0.5581639708947468\n",
            "37 8 8 4 0.5626068701360072\n",
            "37 8 8 5 0.5673425722479262\n",
            "37 8 9 1 0.5680206752053717\n",
            "37 8 9 2 0.5616024159897003\n",
            "37 8 9 3 0.5561382057785578\n",
            "37 8 9 4 0.5625026821119057\n",
            "37 8 9 5 0.5673425722479262\n",
            "37 8 10 1 0.5644692256931818\n",
            "37 8 10 2 0.561998737226344\n",
            "37 8 10 3 0.5562863901581628\n",
            "37 8 10 4 0.5622984855011846\n",
            "37 8 10 5 0.5673425722479262\n",
            "37 8 11 1 0.5623058849979421\n",
            "37 8 11 2 0.5604727702526849\n",
            "37 8 11 3 0.5560340975234083\n",
            "37 8 11 4 0.5612367286982152\n",
            "37 8 11 5 0.5663299486074668\n",
            "37 8 12 1 0.5598958603910852\n",
            "37 8 12 2 0.560591087479136\n",
            "37 8 12 3 0.5562982284656947\n",
            "37 8 12 4 0.5587328184643857\n",
            "37 8 12 5 0.5652965194988439\n",
            "37 8 13 1 0.5612702923206155\n",
            "37 8 13 2 0.5613022915307104\n",
            "37 8 13 3 0.5583204665249849\n",
            "37 8 13 4 0.5587784716261819\n",
            "37 8 13 5 0.564766762444812\n",
            "37 9 2 1 0.5878139184610759\n",
            "37 9 2 2 0.5716170583369817\n",
            "37 9 2 3 0.563795364394227\n",
            "37 9 2 4 0.5626068701360072\n",
            "37 9 2 5 0.5673425722479262\n",
            "37 9 3 1 0.5805837633121983\n",
            "37 9 3 2 0.5716170583369817\n",
            "37 9 3 3 0.563795364394227\n",
            "37 9 3 4 0.5626068701360072\n",
            "37 9 3 5 0.5673425722479262\n",
            "37 9 4 1 0.5835155338339898\n",
            "37 9 4 2 0.5716170583369817\n",
            "37 9 4 3 0.563795364394227\n",
            "37 9 4 4 0.5626068701360072\n",
            "37 9 4 5 0.5673425722479262\n",
            "37 9 5 1 0.5797781360717342\n",
            "37 9 5 2 0.5701827471533611\n",
            "37 9 5 3 0.563795364394227\n",
            "37 9 5 4 0.5626068701360072\n",
            "37 9 5 5 0.5673425722479262\n",
            "37 9 6 1 0.5755018058704077\n",
            "37 9 6 2 0.5688010037386184\n",
            "37 9 6 3 0.563795364394227\n",
            "37 9 6 4 0.5626068701360072\n",
            "37 9 6 5 0.5673425722479262\n",
            "37 9 7 1 0.5743085051359853\n",
            "37 9 7 2 0.5687241728114358\n",
            "37 9 7 3 0.5608757244676585\n",
            "37 9 7 4 0.5626068701360072\n",
            "37 9 7 5 0.5673425722479262\n",
            "37 9 8 1 0.5684636587168929\n",
            "37 9 8 2 0.5654625597137981\n",
            "37 9 8 3 0.5581639708947468\n",
            "37 9 8 4 0.5626068701360072\n",
            "37 9 8 5 0.5673425722479262\n",
            "37 9 9 1 0.5680206752053717\n",
            "37 9 9 2 0.5616024159897003\n",
            "37 9 9 3 0.5561382057785578\n",
            "37 9 9 4 0.5625026821119057\n",
            "37 9 9 5 0.5673425722479262\n",
            "37 9 10 1 0.5644692256931818\n",
            "37 9 10 2 0.561998737226344\n",
            "37 9 10 3 0.5562863901581628\n",
            "37 9 10 4 0.5622984855011846\n",
            "37 9 10 5 0.5673425722479262\n",
            "37 9 11 1 0.5623058849979421\n",
            "37 9 11 2 0.5604727702526849\n",
            "37 9 11 3 0.5560340975234083\n",
            "37 9 11 4 0.5612367286982152\n",
            "37 9 11 5 0.5663299486074668\n",
            "37 9 12 1 0.5598958603910852\n",
            "37 9 12 2 0.560591087479136\n",
            "37 9 12 3 0.5562982284656947\n",
            "37 9 12 4 0.5587328184643857\n",
            "37 9 12 5 0.5652965194988439\n",
            "37 9 13 1 0.5612702923206155\n",
            "37 9 13 2 0.5613022915307104\n",
            "37 9 13 3 0.5583204665249849\n",
            "37 9 13 4 0.5587784716261819\n",
            "37 9 13 5 0.564766762444812\n",
            "37 5 11 3 0.5560340975234083\n"
          ]
        }
      ]
    },
    {
      "cell_type": "code",
      "source": [
        "# 37 2 11 3 0.5560340975234083"
      ],
      "metadata": {
        "id": "asOw6pDOoZUG"
      },
      "execution_count": null,
      "outputs": []
    },
    {
      "cell_type": "markdown",
      "metadata": {
        "id": "iLiPLILmcg4M"
      },
      "source": [
        "# kNN"
      ]
    },
    {
      "cell_type": "code",
      "source": [
        "from sklearn.neighbors import KNeighborsRegressor\n",
        "\n",
        "range_1 = 10 # Use every two weeks of data to train the model for each time\n",
        "range_2 = range_1 + 1 # Forcast the next day, so totally 15 days\n",
        "# model= KNeighborsRegressor(p=1, n_neighbors=5, weights='distance') # MAPE\n",
        "model= KNeighborsRegressor(p=1, n_neighbors=10, weights='distance') # MSE/MAE\n",
        "X = [] # Collect the test arrays\n",
        "Y = [] # Collect the predict arrays\n",
        "Y_test = [] # Collect the real arrays\n",
        "size_2 = int(Input.size/Input[0].size) - range_1\n",
        "# size_2 = 10\n",
        "for i in range(size_2):\n",
        "  # X_train, X_test, y_train, y_test = train_test_split(input_test[i:i+range_2],target_test[i:i+range_2],test_size=1/(range_2),shuffle=False)\n",
        "  X_train, X_test, y_train, y_test = train_test_split(Input[i:i+range_2],Target[i:i+range_2],test_size=1/(range_2),shuffle=False)\n",
        "  model = model.fit(X_train,y_train)\n",
        "  y = model.predict(X_test)\n",
        "  X.append(X_test)\n",
        "  Y.append(y)\n",
        "  Y_test.append(y_test)\n",
        "\n",
        "# Calculate the MSE and MAE for all predicted days\n",
        "\n",
        "MSE = [] # mean square error\n",
        "MAE = [] # mean absolute error \n",
        "average_MSE = []\n",
        "average_MAE = []\n",
        "MAPE = []\n",
        "average_MAPE = []\n",
        "\n",
        "for i in range(size_2):\n",
        "  # Denormalization\n",
        "  # Y[i] = Y[i]*12000 # method_2\n",
        "  # Y_test[i] = Y_test[i]*12000\n",
        "\n",
        "  MSE.append(pow((Y[i] - Y_test[i]),2)) # mean square error\n",
        "  MAE.append(abs(Y[i] - Y_test[i])) # mean absolute error\n",
        "  average_MSE.append(sum(sum(MSE[i])) / MSE[i].size)\n",
        "  average_MAE.append(sum(sum(MAE[i])) / MAE[i].size)\n",
        "  MAPE.append(abs(Y[i] - Y_test[i])/Y_test[i]) # mean absolute percent error\n",
        "  average_MAPE.append(sum(sum(MAPE[i])) / MAPE[i].size)\n",
        "\n",
        "X_MSE = []\n",
        "X_MAE = []\n",
        "for i in range(size_2):\n",
        "  X_MSE.append(i)\n",
        "  X_MAE.append(i)\n",
        "\n",
        "plt.figure(facecolor='w', figsize=(8, 6), dpi=80) # frame\n",
        "\n",
        "# Show the results of all predicted MSEs and MAEs.\n",
        "plt.plot(X_MSE, average_MSE)\n",
        "plt.plot(X_MAE, average_MAE)\n",
        "print(sum(average_MSE))\n",
        "print(sum(average_MAE))\n",
        "print(\"The  average MSE is: \",sum(average_MSE)/size_2)\n",
        "print(\"The  average MAE is: \",sum(average_MAE)/size_2)\n",
        "print(\"average MAPE of all days: \", sum(average_MAPE)/size_2)\n"
      ],
      "metadata": {
        "colab": {
          "base_uri": "https://localhost:8080/",
          "height": 500
        },
        "id": "YUoP7xKPr_Lf",
        "outputId": "959ddd35-c088-41b3-ae42-474fae008fab"
      },
      "execution_count": 28,
      "outputs": [
        {
          "output_type": "stream",
          "name": "stdout",
          "text": [
            "20.593122303127526\n",
            "23.218861741630594\n",
            "The  average MSE is:  0.40378671182602993\n",
            "The  average MAE is:  0.45527179885550184\n",
            "average MAPE of all days:  0.24531798263729204\n"
          ]
        },
        {
          "output_type": "display_data",
          "data": {
            "text/plain": [
              "<Figure size 640x480 with 1 Axes>"
            ],
            "image/png": "[encoded data removed]"
          },
          "metadata": {}
        }
      ]
    },
    {
      "cell_type": "code",
      "source": [
        "# # grid search (for the other method: 14+1)\n",
        "for abc in range(26):\n",
        "  ii = 0\n",
        "  jj = 0\n",
        "  num_of_tree = []\n",
        "  i = 0\n",
        "  min = 1\n",
        "  range_1 = abc\n",
        "  range_2 = range_1+1\n",
        "  size_2 = int(Input.size/Input[0].size) - range_1\n",
        "\n",
        "  for i in range(1,3,1):\n",
        "    for j in range(1,range_2,1):\n",
        "      S = 0\n",
        "      model= KNeighborsRegressor(p=i, n_neighbors=j, weights='distance')\n",
        "      for num in range(size_2):\n",
        "        X_train, X_test, y_train, y_test = train_test_split(Input[num:num+range_2],Target[num:num+range_2],test_size=1/(range_2),shuffle=False)\n",
        "        MSE = []\n",
        "        model.fit(X_train,y_train)\n",
        "        Y = model.predict(X_test)\n",
        "        # MSE = pow((Y - y_test),2) # New definition of the score\n",
        "        # S = S + sum(sum(MSE))/MSE.size\n",
        "        MAPE = abs(Y - y_test)/y_test # mean absolute percent error\n",
        "        S = S + sum(sum(MAPE))/MAPE.size\n",
        "      # print(i,j,S/size_2)\n",
        "      num_of_tree.append(S/size_2)\n",
        "      if min > S/size_2:\n",
        "        ii = i\n",
        "        jj = j\n",
        "        min = S/size_2\n",
        "\n",
        "  print(abc,ii,jj,min)  "
      ],
      "metadata": {
        "colab": {
          "base_uri": "https://localhost:8080/"
        },
        "id": "XqWEGKWm-VN5",
        "outputId": "313cc8c6-1a1c-47cf-a782-a3748a15a505"
      },
      "execution_count": null,
      "outputs": [
        {
          "output_type": "stream",
          "name": "stdout",
          "text": [
            "0 0 0 1\n",
            "1 1 1 0.2827390534569612\n",
            "2 1 2 0.2559823620196982\n",
            "3 1 3 0.24779495426416712\n",
            "4 1 4 0.24598356927772394\n",
            "5 1 5 0.24192364446723397\n",
            "6 1 6 0.24552417359054385\n",
            "7 1 7 0.24968184167474997\n",
            "8 1 3 0.24754539858918548\n",
            "9 1 6 0.24986834076587014\n",
            "10 1 6 0.2486400309081658\n",
            "11 1 6 0.2482087771299505\n",
            "12 1 6 0.2485785863150781\n",
            "13 1 8 0.24871607260171336\n",
            "14 1 7 0.24800232322427537\n",
            "15 1 7 0.2474015489825475\n",
            "16 1 7 0.2503707476627929\n",
            "17 1 7 0.2507832598168514\n",
            "18 1 8 0.25140852338749886\n",
            "19 1 8 0.2508047357554155\n",
            "20 1 9 0.2511933088274189\n",
            "21 2 9 0.2527861949357879\n",
            "22 2 9 0.2526858868984151\n",
            "23 2 9 0.2519627167044403\n",
            "24 2 9 0.25157733972767804\n",
            "25 2 9 0.2526767632904077\n"
          ]
        }
      ]
    },
    {
      "cell_type": "code",
      "source": [
        "# 5 1 5 0.24094270649378718\n",
        "\n",
        "\n"
      ],
      "metadata": {
        "id": "Gp8mIerF1VZK"
      },
      "execution_count": null,
      "outputs": []
    }
  ],
  "metadata": {
    "colab": {
      "collapsed_sections": [
        "21iXTtbRZ239",
        "ePDeI8nA8nAV"
      ],
      "name": "forecasting 4 households (D2)",
      "provenance": []
    },
    "gpuClass": "standard",
    "kernelspec": {
      "display_name": "Python 3",
      "name": "python3"
    },
    "language_info": {
      "name": "python"
    }
  },
  "nbformat": 4,
  "nbformat_minor": 0
}