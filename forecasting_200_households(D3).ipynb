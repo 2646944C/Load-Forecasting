{
  "cells": [
    {
      "cell_type": "markdown",
      "metadata": {
        "id": "Y6KeunTyinYt"
      },
      "source": [
        "# Forecasting"
      ]
    },
    {
      "cell_type": "markdown",
      "metadata": {
        "id": "8ID7hfAeZ5TH"
      },
      "source": [
        "In this workshop, you will forecast the charging profile of a real EV based on historic data of consumption. \n",
        "The dataset you will use corresponds to the charging times of many different households during several years. \n"
      ]
    },
    {
      "cell_type": "code",
      "execution_count": null,
      "metadata": {
        "id": "ObQV5aG137DP"
      },
      "outputs": [],
      "source": [
        "import warnings\n",
        "warnings.filterwarnings(\"ignore\")"
      ]
    },
    {
      "cell_type": "markdown",
      "metadata": {
        "id": "VD6bnJIgZ0LG"
      },
      "source": [
        "# Donwload the data"
      ]
    },
    {
      "cell_type": "code",
      "execution_count": null,
      "metadata": {
        "colab": {
          "base_uri": "https://localhost:8080/"
        },
        "id": "NyCo1xx54EaE",
        "outputId": "5fc7ba8d-fa0f-4570-8b86-1bf789b6600f"
      },
      "outputs": [
        {
          "output_type": "stream",
          "name": "stdout",
          "text": [
            "Looking in indexes: https://pypi.org/simple, https://us-python.pkg.dev/colab-wheels/public/simple/\n",
            "Requirement already satisfied: wget in /usr/local/lib/python3.7/dist-packages (3.2)\n",
            "Looking in indexes: https://pypi.org/simple, https://us-python.pkg.dev/colab-wheels/public/simple/\n",
            "Requirement already satisfied: pandas in /usr/local/lib/python3.7/dist-packages (1.3.5)\n",
            "Requirement already satisfied: python-dateutil>=2.7.3 in /usr/local/lib/python3.7/dist-packages (from pandas) (2.8.2)\n",
            "Requirement already satisfied: pytz>=2017.3 in /usr/local/lib/python3.7/dist-packages (from pandas) (2022.1)\n",
            "Requirement already satisfied: numpy>=1.17.3 in /usr/local/lib/python3.7/dist-packages (from pandas) (1.21.6)\n",
            "Requirement already satisfied: six>=1.5 in /usr/local/lib/python3.7/dist-packages (from python-dateutil>=2.7.3->pandas) (1.15.0)\n",
            "Looking in indexes: https://pypi.org/simple, https://us-python.pkg.dev/colab-wheels/public/simple/\n",
            "Requirement already satisfied: numpy in /usr/local/lib/python3.7/dist-packages (1.21.6)\n",
            "Looking in indexes: https://pypi.org/simple, https://us-python.pkg.dev/colab-wheels/public/simple/\n",
            "Requirement already satisfied: matplotlib in /usr/local/lib/python3.7/dist-packages (3.2.2)\n",
            "Requirement already satisfied: numpy>=1.11 in /usr/local/lib/python3.7/dist-packages (from matplotlib) (1.21.6)\n",
            "Requirement already satisfied: cycler>=0.10 in /usr/local/lib/python3.7/dist-packages (from matplotlib) (0.11.0)\n",
            "Requirement already satisfied: pyparsing!=2.0.4,!=2.1.2,!=2.1.6,>=2.0.1 in /usr/local/lib/python3.7/dist-packages (from matplotlib) (3.0.9)\n",
            "Requirement already satisfied: kiwisolver>=1.0.1 in /usr/local/lib/python3.7/dist-packages (from matplotlib) (1.4.4)\n",
            "Requirement already satisfied: python-dateutil>=2.1 in /usr/local/lib/python3.7/dist-packages (from matplotlib) (2.8.2)\n",
            "Requirement already satisfied: typing-extensions in /usr/local/lib/python3.7/dist-packages (from kiwisolver>=1.0.1->matplotlib) (4.1.1)\n",
            "Requirement already satisfied: six>=1.5 in /usr/local/lib/python3.7/dist-packages (from python-dateutil>=2.1->matplotlib) (1.15.0)\n"
          ]
        }
      ],
      "source": [
        "!pip install wget\n",
        "!pip install pandas\n",
        "\n",
        "from datetime import datetime\n",
        "!pip install numpy\n",
        "import numpy as np\n",
        "!pip install matplotlib\n",
        "\n",
        "from datetime import datetime\n",
        "\n",
        "import warnings\n",
        "warnings.filterwarnings(\"ignore\")\n",
        "\n",
        "from google.colab import files\n",
        "\n",
        "import os\n",
        "\n",
        "import io\n",
        "\n",
        "import csv\n",
        "\n",
        "import pandas as pd\n",
        "\n",
        "import matplotlib as plt"
      ]
    },
    {
      "cell_type": "code",
      "execution_count": null,
      "metadata": {
        "colab": {
          "base_uri": "https://localhost:8080/",
          "height": 441
        },
        "id": "aSsTPuaN-DQ6",
        "outputId": "6c1df3a8-ad72-4b52-8f5c-95e7c66d231e"
      },
      "outputs": [
        {
          "output_type": "stream",
          "name": "stdout",
          "text": [
            "Drive already mounted at /content/drive/; to attempt to forcibly remount, call drive.mount(\"/content/drive/\", force_remount=True).\n"
          ]
        },
        {
          "output_type": "execute_result",
          "data": {
            "text/plain": [
              "                        time    D1   D2    D3   D4   D5  D6   D7   D8   D9  \\\n",
              "0     '01-Feb-2021 00:00:00'  2996  345  1217  115  129   7  147   82  227   \n",
              "1     '01-Feb-2021 00:30:00'  2145  183  1607   56  112   7  146   80  182   \n",
              "2     '01-Feb-2021 01:00:00'  1855  161  1191   41  127  17  138   66  200   \n",
              "3     '01-Feb-2021 01:30:00'  1556  133  1138   34  136   7  125   84  185   \n",
              "4     '01-Feb-2021 02:00:00'  1527   11   910   43  119   7  125   81  129   \n",
              "...                      ...   ...  ...   ...  ...  ...  ..  ...  ...  ...   \n",
              "4315  '01-May-2021 21:30:00'   349  172   256  124  613  34  268  175  319   \n",
              "4316  '01-May-2021 22:00:00'   289  136   286  112  603  20  215  166  160   \n",
              "4317  '01-May-2021 22:30:00'   318  146   204   95  598  18  210  250  117   \n",
              "4318  '01-May-2021 23:00:00'   345  120   184  106  611  22  496  151  146   \n",
              "4319  '01-May-2021 23:30:00'   317  118   162  142  589  24  167   80   58   \n",
              "\n",
              "      ...  D192  D193  D194  D195  D196  D197  D198  D199  D200    value  \n",
              "0     ...   198   114   242   197   133   212   667   166   166  282.450  \n",
              "1     ...   224    46    95   180    66   217   182   107   107  223.005  \n",
              "2     ...   192    32   109   165    72   274   109   107   107  206.830  \n",
              "3     ...   214    39    75   249    55   262    98    58    58  210.005  \n",
              "4     ...   200    37    97   531    78   200    88    81    81  187.930  \n",
              "...   ...   ...   ...   ...   ...   ...   ...   ...   ...   ...      ...  \n",
              "4315  ...   114    67   631   431   245   190   158   158   158  252.510  \n",
              "4316  ...   118    68   339   321   120   159   114   175   175  193.625  \n",
              "4317  ...   116    64   218   237   145   118   174   126   126  175.645  \n",
              "4318  ...   106    70   152   222    86    80   141   109   109  146.130  \n",
              "4319  ...   126    69    89   224    50    96   123    50    50  153.905  \n",
              "\n",
              "[4320 rows x 202 columns]"
            ],
            "text/html": [
              "\n",
              "  <div id=\"df-0ad275b3-0743-4991-9a67-1036e1e8175d\">\n",
              "    <div class=\"colab-df-container\">\n",
              "      <div>\n",
              "<style scoped>\n",
              "    .dataframe tbody tr th:only-of-type {\n",
              "        vertical-align: middle;\n",
              "    }\n",
              "\n",
              "    .dataframe tbody tr th {\n",
              "        vertical-align: top;\n",
              "    }\n",
              "\n",
              "    .dataframe thead th {\n",
              "        text-align: right;\n",
              "    }\n",
              "</style>\n",
              "<table border=\"1\" class=\"dataframe\">\n",
              "  <thead>\n",
              "    <tr style=\"text-align: right;\">\n",
              "      <th></th>\n",
              "      <th>time</th>\n",
              "      <th>D1</th>\n",
              "      <th>D2</th>\n",
              "      <th>D3</th>\n",
              "      <th>D4</th>\n",
              "      <th>D5</th>\n",
              "      <th>D6</th>\n",
              "      <th>D7</th>\n",
              "      <th>D8</th>\n",
              "      <th>D9</th>\n",
              "      <th>...</th>\n",
              "      <th>D192</th>\n",
              "      <th>D193</th>\n",
              "      <th>D194</th>\n",
              "      <th>D195</th>\n",
              "      <th>D196</th>\n",
              "      <th>D197</th>\n",
              "      <th>D198</th>\n",
              "      <th>D199</th>\n",
              "      <th>D200</th>\n",
              "      <th>value</th>\n",
              "    </tr>\n",
              "  </thead>\n",
              "  <tbody>\n",
              "    <tr>\n",
              "      <th>0</th>\n",
              "      <td>'01-Feb-2021 00:00:00'</td>\n",
              "      <td>2996</td>\n",
              "      <td>345</td>\n",
              "      <td>1217</td>\n",
              "      <td>115</td>\n",
              "      <td>129</td>\n",
              "      <td>7</td>\n",
              "      <td>147</td>\n",
              "      <td>82</td>\n",
              "      <td>227</td>\n",
              "      <td>...</td>\n",
              "      <td>198</td>\n",
              "      <td>114</td>\n",
              "      <td>242</td>\n",
              "      <td>197</td>\n",
              "      <td>133</td>\n",
              "      <td>212</td>\n",
              "      <td>667</td>\n",
              "      <td>166</td>\n",
              "      <td>166</td>\n",
              "      <td>282.450</td>\n",
              "    </tr>\n",
              "    <tr>\n",
              "      <th>1</th>\n",
              "      <td>'01-Feb-2021 00:30:00'</td>\n",
              "      <td>2145</td>\n",
              "      <td>183</td>\n",
              "      <td>1607</td>\n",
              "      <td>56</td>\n",
              "      <td>112</td>\n",
              "      <td>7</td>\n",
              "      <td>146</td>\n",
              "      <td>80</td>\n",
              "      <td>182</td>\n",
              "      <td>...</td>\n",
              "      <td>224</td>\n",
              "      <td>46</td>\n",
              "      <td>95</td>\n",
              "      <td>180</td>\n",
              "      <td>66</td>\n",
              "      <td>217</td>\n",
              "      <td>182</td>\n",
              "      <td>107</td>\n",
              "      <td>107</td>\n",
              "      <td>223.005</td>\n",
              "    </tr>\n",
              "    <tr>\n",
              "      <th>2</th>\n",
              "      <td>'01-Feb-2021 01:00:00'</td>\n",
              "      <td>1855</td>\n",
              "      <td>161</td>\n",
              "      <td>1191</td>\n",
              "      <td>41</td>\n",
              "      <td>127</td>\n",
              "      <td>17</td>\n",
              "      <td>138</td>\n",
              "      <td>66</td>\n",
              "      <td>200</td>\n",
              "      <td>...</td>\n",
              "      <td>192</td>\n",
              "      <td>32</td>\n",
              "      <td>109</td>\n",
              "      <td>165</td>\n",
              "      <td>72</td>\n",
              "      <td>274</td>\n",
              "      <td>109</td>\n",
              "      <td>107</td>\n",
              "      <td>107</td>\n",
              "      <td>206.830</td>\n",
              "    </tr>\n",
              "    <tr>\n",
              "      <th>3</th>\n",
              "      <td>'01-Feb-2021 01:30:00'</td>\n",
              "      <td>1556</td>\n",
              "      <td>133</td>\n",
              "      <td>1138</td>\n",
              "      <td>34</td>\n",
              "      <td>136</td>\n",
              "      <td>7</td>\n",
              "      <td>125</td>\n",
              "      <td>84</td>\n",
              "      <td>185</td>\n",
              "      <td>...</td>\n",
              "      <td>214</td>\n",
              "      <td>39</td>\n",
              "      <td>75</td>\n",
              "      <td>249</td>\n",
              "      <td>55</td>\n",
              "      <td>262</td>\n",
              "      <td>98</td>\n",
              "      <td>58</td>\n",
              "      <td>58</td>\n",
              "      <td>210.005</td>\n",
              "    </tr>\n",
              "    <tr>\n",
              "      <th>4</th>\n",
              "      <td>'01-Feb-2021 02:00:00'</td>\n",
              "      <td>1527</td>\n",
              "      <td>11</td>\n",
              "      <td>910</td>\n",
              "      <td>43</td>\n",
              "      <td>119</td>\n",
              "      <td>7</td>\n",
              "      <td>125</td>\n",
              "      <td>81</td>\n",
              "      <td>129</td>\n",
              "      <td>...</td>\n",
              "      <td>200</td>\n",
              "      <td>37</td>\n",
              "      <td>97</td>\n",
              "      <td>531</td>\n",
              "      <td>78</td>\n",
              "      <td>200</td>\n",
              "      <td>88</td>\n",
              "      <td>81</td>\n",
              "      <td>81</td>\n",
              "      <td>187.930</td>\n",
              "    </tr>\n",
              "    <tr>\n",
              "      <th>...</th>\n",
              "      <td>...</td>\n",
              "      <td>...</td>\n",
              "      <td>...</td>\n",
              "      <td>...</td>\n",
              "      <td>...</td>\n",
              "      <td>...</td>\n",
              "      <td>...</td>\n",
              "      <td>...</td>\n",
              "      <td>...</td>\n",
              "      <td>...</td>\n",
              "      <td>...</td>\n",
              "      <td>...</td>\n",
              "      <td>...</td>\n",
              "      <td>...</td>\n",
              "      <td>...</td>\n",
              "      <td>...</td>\n",
              "      <td>...</td>\n",
              "      <td>...</td>\n",
              "      <td>...</td>\n",
              "      <td>...</td>\n",
              "      <td>...</td>\n",
              "    </tr>\n",
              "    <tr>\n",
              "      <th>4315</th>\n",
              "      <td>'01-May-2021 21:30:00'</td>\n",
              "      <td>349</td>\n",
              "      <td>172</td>\n",
              "      <td>256</td>\n",
              "      <td>124</td>\n",
              "      <td>613</td>\n",
              "      <td>34</td>\n",
              "      <td>268</td>\n",
              "      <td>175</td>\n",
              "      <td>319</td>\n",
              "      <td>...</td>\n",
              "      <td>114</td>\n",
              "      <td>67</td>\n",
              "      <td>631</td>\n",
              "      <td>431</td>\n",
              "      <td>245</td>\n",
              "      <td>190</td>\n",
              "      <td>158</td>\n",
              "      <td>158</td>\n",
              "      <td>158</td>\n",
              "      <td>252.510</td>\n",
              "    </tr>\n",
              "    <tr>\n",
              "      <th>4316</th>\n",
              "      <td>'01-May-2021 22:00:00'</td>\n",
              "      <td>289</td>\n",
              "      <td>136</td>\n",
              "      <td>286</td>\n",
              "      <td>112</td>\n",
              "      <td>603</td>\n",
              "      <td>20</td>\n",
              "      <td>215</td>\n",
              "      <td>166</td>\n",
              "      <td>160</td>\n",
              "      <td>...</td>\n",
              "      <td>118</td>\n",
              "      <td>68</td>\n",
              "      <td>339</td>\n",
              "      <td>321</td>\n",
              "      <td>120</td>\n",
              "      <td>159</td>\n",
              "      <td>114</td>\n",
              "      <td>175</td>\n",
              "      <td>175</td>\n",
              "      <td>193.625</td>\n",
              "    </tr>\n",
              "    <tr>\n",
              "      <th>4317</th>\n",
              "      <td>'01-May-2021 22:30:00'</td>\n",
              "      <td>318</td>\n",
              "      <td>146</td>\n",
              "      <td>204</td>\n",
              "      <td>95</td>\n",
              "      <td>598</td>\n",
              "      <td>18</td>\n",
              "      <td>210</td>\n",
              "      <td>250</td>\n",
              "      <td>117</td>\n",
              "      <td>...</td>\n",
              "      <td>116</td>\n",
              "      <td>64</td>\n",
              "      <td>218</td>\n",
              "      <td>237</td>\n",
              "      <td>145</td>\n",
              "      <td>118</td>\n",
              "      <td>174</td>\n",
              "      <td>126</td>\n",
              "      <td>126</td>\n",
              "      <td>175.645</td>\n",
              "    </tr>\n",
              "    <tr>\n",
              "      <th>4318</th>\n",
              "      <td>'01-May-2021 23:00:00'</td>\n",
              "      <td>345</td>\n",
              "      <td>120</td>\n",
              "      <td>184</td>\n",
              "      <td>106</td>\n",
              "      <td>611</td>\n",
              "      <td>22</td>\n",
              "      <td>496</td>\n",
              "      <td>151</td>\n",
              "      <td>146</td>\n",
              "      <td>...</td>\n",
              "      <td>106</td>\n",
              "      <td>70</td>\n",
              "      <td>152</td>\n",
              "      <td>222</td>\n",
              "      <td>86</td>\n",
              "      <td>80</td>\n",
              "      <td>141</td>\n",
              "      <td>109</td>\n",
              "      <td>109</td>\n",
              "      <td>146.130</td>\n",
              "    </tr>\n",
              "    <tr>\n",
              "      <th>4319</th>\n",
              "      <td>'01-May-2021 23:30:00'</td>\n",
              "      <td>317</td>\n",
              "      <td>118</td>\n",
              "      <td>162</td>\n",
              "      <td>142</td>\n",
              "      <td>589</td>\n",
              "      <td>24</td>\n",
              "      <td>167</td>\n",
              "      <td>80</td>\n",
              "      <td>58</td>\n",
              "      <td>...</td>\n",
              "      <td>126</td>\n",
              "      <td>69</td>\n",
              "      <td>89</td>\n",
              "      <td>224</td>\n",
              "      <td>50</td>\n",
              "      <td>96</td>\n",
              "      <td>123</td>\n",
              "      <td>50</td>\n",
              "      <td>50</td>\n",
              "      <td>153.905</td>\n",
              "    </tr>\n",
              "  </tbody>\n",
              "</table>\n",
              "<p>4320 rows × 202 columns</p>\n",
              "</div>\n",
              "      <button class=\"colab-df-convert\" onclick=\"convertToInteractive('df-0ad275b3-0743-4991-9a67-1036e1e8175d')\"\n",
              "              title=\"Convert this dataframe to an interactive table.\"\n",
              "              style=\"display:none;\">\n",
              "        \n",
              "  <svg xmlns=\"http://www.w3.org/2000/svg\" height=\"24px\"viewBox=\"0 0 24 24\"\n",
              "       width=\"24px\">\n",
              "    <path d=\"M0 0h24v24H0V0z\" fill=\"none\"/>\n",
              "    <path d=\"M18.56 5.44l.94 2.06.94-2.06 2.06-.94-2.06-.94-.94-2.06-.94 2.06-2.06.94zm-11 1L8.5 8.5l.94-2.06 2.06-.94-2.06-.94L8.5 2.5l-.94 2.06-2.06.94zm10 10l.94 2.06.94-2.06 2.06-.94-2.06-.94-.94-2.06-.94 2.06-2.06.94z\"/><path d=\"M17.41 7.96l-1.37-1.37c-.4-.4-.92-.59-1.43-.59-.52 0-1.04.2-1.43.59L10.3 9.45l-7.72 7.72c-.78.78-.78 2.05 0 2.83L4 21.41c.39.39.9.59 1.41.59.51 0 1.02-.2 1.41-.59l7.78-7.78 2.81-2.81c.8-.78.8-2.07 0-2.86zM5.41 20L4 18.59l7.72-7.72 1.47 1.35L5.41 20z\"/>\n",
              "  </svg>\n",
              "      </button>\n",
              "      \n",
              "  <style>\n",
              "    .colab-df-container {\n",
              "      display:flex;\n",
              "      flex-wrap:wrap;\n",
              "      gap: 12px;\n",
              "    }\n",
              "\n",
              "    .colab-df-convert {\n",
              "      background-color: #E8F0FE;\n",
              "      border: none;\n",
              "      border-radius: 50%;\n",
              "      cursor: pointer;\n",
              "      display: none;\n",
              "      fill: #1967D2;\n",
              "      height: 32px;\n",
              "      padding: 0 0 0 0;\n",
              "      width: 32px;\n",
              "    }\n",
              "\n",
              "    .colab-df-convert:hover {\n",
              "      background-color: #E2EBFA;\n",
              "      box-shadow: 0px 1px 2px rgba(60, 64, 67, 0.3), 0px 1px 3px 1px rgba(60, 64, 67, 0.15);\n",
              "      fill: #174EA6;\n",
              "    }\n",
              "\n",
              "    [theme=dark] .colab-df-convert {\n",
              "      background-color: #3B4455;\n",
              "      fill: #D2E3FC;\n",
              "    }\n",
              "\n",
              "    [theme=dark] .colab-df-convert:hover {\n",
              "      background-color: #434B5C;\n",
              "      box-shadow: 0px 1px 3px 1px rgba(0, 0, 0, 0.15);\n",
              "      filter: drop-shadow(0px 1px 2px rgba(0, 0, 0, 0.3));\n",
              "      fill: #FFFFFF;\n",
              "    }\n",
              "  </style>\n",
              "\n",
              "      <script>\n",
              "        const buttonEl =\n",
              "          document.querySelector('#df-0ad275b3-0743-4991-9a67-1036e1e8175d button.colab-df-convert');\n",
              "        buttonEl.style.display =\n",
              "          google.colab.kernel.accessAllowed ? 'block' : 'none';\n",
              "\n",
              "        async function convertToInteractive(key) {\n",
              "          const element = document.querySelector('#df-0ad275b3-0743-4991-9a67-1036e1e8175d');\n",
              "          const dataTable =\n",
              "            await google.colab.kernel.invokeFunction('convertToInteractive',\n",
              "                                                     [key], {});\n",
              "          if (!dataTable) return;\n",
              "\n",
              "          const docLinkHtml = 'Like what you see? Visit the ' +\n",
              "            '<a target=\"_blank\" href=https://colab.research.google.com/notebooks/data_table.ipynb>data table notebook</a>'\n",
              "            + ' to learn more about interactive tables.';\n",
              "          element.innerHTML = '';\n",
              "          dataTable['output_type'] = 'display_data';\n",
              "          await google.colab.output.renderOutput(dataTable, element);\n",
              "          const docLink = document.createElement('div');\n",
              "          docLink.innerHTML = docLinkHtml;\n",
              "          element.appendChild(docLink);\n",
              "        }\n",
              "      </script>\n",
              "    </div>\n",
              "  </div>\n",
              "  "
            ]
          },
          "metadata": {},
          "execution_count": 54
        }
      ],
      "source": [
        "from google.colab import drive \n",
        "drive.mount('/content/drive/')\n",
        "# data = '/content/drive/MyDrive/project/data/200/1.csv'\n",
        "# data = '/content/drive/MyDrive/project/data/200/2.csv'\n",
        "# data = '/content/drive/MyDrive/project/data/200/3.csv'\n",
        "# data = '/content/drive/MyDrive/project/data/200/4.csv'\n",
        "# data = '/content/drive/MyDrive/project/data/200/5.csv'\n",
        "# data = '/content/drive/MyDrive/project/data/200/10.csv'\n",
        "# data = '/content/drive/MyDrive/project/data/200/20.csv'\n",
        "# data = '/content/drive/MyDrive/project/data/200/50.csv'\n",
        "# data = '/content/drive/MyDrive/project/data/200/100.csv'\n",
        "data = '/content/drive/MyDrive/project/data/200/200.csv'\n",
        "np.set_printoptions(suppress=True) # Preventing the use of scientific notation\n",
        "tab = pd.read_csv(data, sep=',')\n",
        "tab = tab.interpolate()\n",
        "tab"
      ]
    },
    {
      "cell_type": "markdown",
      "metadata": {
        "id": "21iXTtbRZ239"
      },
      "source": [
        "# Data Processing/Cleaning"
      ]
    },
    {
      "cell_type": "markdown",
      "metadata": {
        "id": "Bw89G2aCaiST"
      },
      "source": [
        "Before implementing a model, we first need to clean the data and prepare it for the training phase."
      ]
    },
    {
      "cell_type": "markdown",
      "metadata": {
        "id": "AthiHejk7gqO"
      },
      "source": [
        "# Let's select columns of interest"
      ]
    },
    {
      "cell_type": "code",
      "execution_count": null,
      "metadata": {
        "id": "QBgwlrze75oW"
      },
      "outputs": [],
      "source": [
        "mycolumns = ['time','value']\n",
        "df=tab[mycolumns]\n",
        "\n",
        "\n",
        "A = df\n",
        "# add the day of week information\n",
        "A['time'] = pd.to_datetime(A['time'])\n",
        "A['day_of_week'] = A['time'].dt.dayofweek\n",
        "\n",
        "\n",
        "# A = df.loc[df['ChargerID'] == End_user_ID]\n",
        "# # add the day of week information\n",
        "# A['TimeStamp'] = pd.to_datetime(A['TimeStamp'])\n",
        "# A['day_of_week'] = A['TimeStamp'].dt.dayofweek\n",
        "# # normalise the power: we only want to know if the end-user charged or not. \n",
        "# A.loc[A['Power_W'] > Min_Power, 'Power_W'] = 1"
      ]
    },
    {
      "cell_type": "code",
      "execution_count": null,
      "metadata": {
        "colab": {
          "base_uri": "https://localhost:8080/",
          "height": 424
        },
        "id": "KqDicB0-bngE",
        "outputId": "fdfe1009-a015-4906-e2a9-ac0717342be8"
      },
      "outputs": [
        {
          "output_type": "execute_result",
          "data": {
            "text/plain": [
              "                    time    value  day_of_week\n",
              "0    2021-02-01 00:00:00  282.450            0\n",
              "1    2021-02-01 00:30:00  223.005            0\n",
              "2    2021-02-01 01:00:00  206.830            0\n",
              "3    2021-02-01 01:30:00  210.005            0\n",
              "4    2021-02-01 02:00:00  187.930            0\n",
              "...                  ...      ...          ...\n",
              "4315 2021-05-01 21:30:00  252.510            5\n",
              "4316 2021-05-01 22:00:00  193.625            5\n",
              "4317 2021-05-01 22:30:00  175.645            5\n",
              "4318 2021-05-01 23:00:00  146.130            5\n",
              "4319 2021-05-01 23:30:00  153.905            5\n",
              "\n",
              "[4320 rows x 3 columns]"
            ],
            "text/html": [
              "\n",
              "  <div id=\"df-acc45130-c1e5-43e4-9e6b-6d2d1c5b77db\">\n",
              "    <div class=\"colab-df-container\">\n",
              "      <div>\n",
              "<style scoped>\n",
              "    .dataframe tbody tr th:only-of-type {\n",
              "        vertical-align: middle;\n",
              "    }\n",
              "\n",
              "    .dataframe tbody tr th {\n",
              "        vertical-align: top;\n",
              "    }\n",
              "\n",
              "    .dataframe thead th {\n",
              "        text-align: right;\n",
              "    }\n",
              "</style>\n",
              "<table border=\"1\" class=\"dataframe\">\n",
              "  <thead>\n",
              "    <tr style=\"text-align: right;\">\n",
              "      <th></th>\n",
              "      <th>time</th>\n",
              "      <th>value</th>\n",
              "      <th>day_of_week</th>\n",
              "    </tr>\n",
              "  </thead>\n",
              "  <tbody>\n",
              "    <tr>\n",
              "      <th>0</th>\n",
              "      <td>2021-02-01 00:00:00</td>\n",
              "      <td>282.450</td>\n",
              "      <td>0</td>\n",
              "    </tr>\n",
              "    <tr>\n",
              "      <th>1</th>\n",
              "      <td>2021-02-01 00:30:00</td>\n",
              "      <td>223.005</td>\n",
              "      <td>0</td>\n",
              "    </tr>\n",
              "    <tr>\n",
              "      <th>2</th>\n",
              "      <td>2021-02-01 01:00:00</td>\n",
              "      <td>206.830</td>\n",
              "      <td>0</td>\n",
              "    </tr>\n",
              "    <tr>\n",
              "      <th>3</th>\n",
              "      <td>2021-02-01 01:30:00</td>\n",
              "      <td>210.005</td>\n",
              "      <td>0</td>\n",
              "    </tr>\n",
              "    <tr>\n",
              "      <th>4</th>\n",
              "      <td>2021-02-01 02:00:00</td>\n",
              "      <td>187.930</td>\n",
              "      <td>0</td>\n",
              "    </tr>\n",
              "    <tr>\n",
              "      <th>...</th>\n",
              "      <td>...</td>\n",
              "      <td>...</td>\n",
              "      <td>...</td>\n",
              "    </tr>\n",
              "    <tr>\n",
              "      <th>4315</th>\n",
              "      <td>2021-05-01 21:30:00</td>\n",
              "      <td>252.510</td>\n",
              "      <td>5</td>\n",
              "    </tr>\n",
              "    <tr>\n",
              "      <th>4316</th>\n",
              "      <td>2021-05-01 22:00:00</td>\n",
              "      <td>193.625</td>\n",
              "      <td>5</td>\n",
              "    </tr>\n",
              "    <tr>\n",
              "      <th>4317</th>\n",
              "      <td>2021-05-01 22:30:00</td>\n",
              "      <td>175.645</td>\n",
              "      <td>5</td>\n",
              "    </tr>\n",
              "    <tr>\n",
              "      <th>4318</th>\n",
              "      <td>2021-05-01 23:00:00</td>\n",
              "      <td>146.130</td>\n",
              "      <td>5</td>\n",
              "    </tr>\n",
              "    <tr>\n",
              "      <th>4319</th>\n",
              "      <td>2021-05-01 23:30:00</td>\n",
              "      <td>153.905</td>\n",
              "      <td>5</td>\n",
              "    </tr>\n",
              "  </tbody>\n",
              "</table>\n",
              "<p>4320 rows × 3 columns</p>\n",
              "</div>\n",
              "      <button class=\"colab-df-convert\" onclick=\"convertToInteractive('df-acc45130-c1e5-43e4-9e6b-6d2d1c5b77db')\"\n",
              "              title=\"Convert this dataframe to an interactive table.\"\n",
              "              style=\"display:none;\">\n",
              "        \n",
              "  <svg xmlns=\"http://www.w3.org/2000/svg\" height=\"24px\"viewBox=\"0 0 24 24\"\n",
              "       width=\"24px\">\n",
              "    <path d=\"M0 0h24v24H0V0z\" fill=\"none\"/>\n",
              "    <path d=\"M18.56 5.44l.94 2.06.94-2.06 2.06-.94-2.06-.94-.94-2.06-.94 2.06-2.06.94zm-11 1L8.5 8.5l.94-2.06 2.06-.94-2.06-.94L8.5 2.5l-.94 2.06-2.06.94zm10 10l.94 2.06.94-2.06 2.06-.94-2.06-.94-.94-2.06-.94 2.06-2.06.94z\"/><path d=\"M17.41 7.96l-1.37-1.37c-.4-.4-.92-.59-1.43-.59-.52 0-1.04.2-1.43.59L10.3 9.45l-7.72 7.72c-.78.78-.78 2.05 0 2.83L4 21.41c.39.39.9.59 1.41.59.51 0 1.02-.2 1.41-.59l7.78-7.78 2.81-2.81c.8-.78.8-2.07 0-2.86zM5.41 20L4 18.59l7.72-7.72 1.47 1.35L5.41 20z\"/>\n",
              "  </svg>\n",
              "      </button>\n",
              "      \n",
              "  <style>\n",
              "    .colab-df-container {\n",
              "      display:flex;\n",
              "      flex-wrap:wrap;\n",
              "      gap: 12px;\n",
              "    }\n",
              "\n",
              "    .colab-df-convert {\n",
              "      background-color: #E8F0FE;\n",
              "      border: none;\n",
              "      border-radius: 50%;\n",
              "      cursor: pointer;\n",
              "      display: none;\n",
              "      fill: #1967D2;\n",
              "      height: 32px;\n",
              "      padding: 0 0 0 0;\n",
              "      width: 32px;\n",
              "    }\n",
              "\n",
              "    .colab-df-convert:hover {\n",
              "      background-color: #E2EBFA;\n",
              "      box-shadow: 0px 1px 2px rgba(60, 64, 67, 0.3), 0px 1px 3px 1px rgba(60, 64, 67, 0.15);\n",
              "      fill: #174EA6;\n",
              "    }\n",
              "\n",
              "    [theme=dark] .colab-df-convert {\n",
              "      background-color: #3B4455;\n",
              "      fill: #D2E3FC;\n",
              "    }\n",
              "\n",
              "    [theme=dark] .colab-df-convert:hover {\n",
              "      background-color: #434B5C;\n",
              "      box-shadow: 0px 1px 3px 1px rgba(0, 0, 0, 0.15);\n",
              "      filter: drop-shadow(0px 1px 2px rgba(0, 0, 0, 0.3));\n",
              "      fill: #FFFFFF;\n",
              "    }\n",
              "  </style>\n",
              "\n",
              "      <script>\n",
              "        const buttonEl =\n",
              "          document.querySelector('#df-acc45130-c1e5-43e4-9e6b-6d2d1c5b77db button.colab-df-convert');\n",
              "        buttonEl.style.display =\n",
              "          google.colab.kernel.accessAllowed ? 'block' : 'none';\n",
              "\n",
              "        async function convertToInteractive(key) {\n",
              "          const element = document.querySelector('#df-acc45130-c1e5-43e4-9e6b-6d2d1c5b77db');\n",
              "          const dataTable =\n",
              "            await google.colab.kernel.invokeFunction('convertToInteractive',\n",
              "                                                     [key], {});\n",
              "          if (!dataTable) return;\n",
              "\n",
              "          const docLinkHtml = 'Like what you see? Visit the ' +\n",
              "            '<a target=\"_blank\" href=https://colab.research.google.com/notebooks/data_table.ipynb>data table notebook</a>'\n",
              "            + ' to learn more about interactive tables.';\n",
              "          element.innerHTML = '';\n",
              "          dataTable['output_type'] = 'display_data';\n",
              "          await google.colab.output.renderOutput(dataTable, element);\n",
              "          const docLink = document.createElement('div');\n",
              "          docLink.innerHTML = docLinkHtml;\n",
              "          element.appendChild(docLink);\n",
              "        }\n",
              "      </script>\n",
              "    </div>\n",
              "  </div>\n",
              "  "
            ]
          },
          "metadata": {},
          "execution_count": 26
        }
      ],
      "source": [
        "A"
      ]
    },
    {
      "cell_type": "code",
      "execution_count": null,
      "metadata": {
        "colab": {
          "base_uri": "https://localhost:8080/"
        },
        "id": "n5x5Z7FA8HDW",
        "outputId": "559bba6b-a733-4e03-bdd5-b4101baff15c"
      },
      "outputs": [
        {
          "output_type": "stream",
          "name": "stdout",
          "text": [
            "                  time\n",
            "0  2022-01-01 00:00:00\n",
            "1  2022-01-01 00:30:00\n",
            "2  2022-01-01 01:00:00\n",
            "3  2022-01-01 01:30:00\n",
            "4  2022-01-01 02:00:00\n",
            "5  2022-01-01 02:30:00\n",
            "6  2022-01-01 03:00:00\n",
            "7  2022-01-01 03:30:00\n",
            "8  2022-01-01 04:00:00\n",
            "9  2022-01-01 04:30:00\n",
            "10 2022-01-01 05:00:00\n",
            "11 2022-01-01 05:30:00\n",
            "12 2022-01-01 06:00:00\n",
            "13 2022-01-01 06:30:00\n",
            "14 2022-01-01 07:00:00\n",
            "15 2022-01-01 07:30:00\n",
            "16 2022-01-01 08:00:00\n",
            "17 2022-01-01 08:30:00\n",
            "18 2022-01-01 09:00:00\n",
            "19 2022-01-01 09:30:00\n",
            "20 2022-01-01 10:00:00\n",
            "21 2022-01-01 10:30:00\n",
            "22 2022-01-01 11:00:00\n",
            "23 2022-01-01 11:30:00\n",
            "24 2022-01-01 12:00:00\n",
            "25 2022-01-01 12:30:00\n",
            "26 2022-01-01 13:00:00\n",
            "27 2022-01-01 13:30:00\n",
            "28 2022-01-01 14:00:00\n",
            "29 2022-01-01 14:30:00\n",
            "30 2022-01-01 15:00:00\n",
            "31 2022-01-01 15:30:00\n",
            "32 2022-01-01 16:00:00\n",
            "33 2022-01-01 16:30:00\n",
            "34 2022-01-01 17:00:00\n",
            "35 2022-01-01 17:30:00\n",
            "36 2022-01-01 18:00:00\n",
            "37 2022-01-01 18:30:00\n",
            "38 2022-01-01 19:00:00\n",
            "39 2022-01-01 19:30:00\n",
            "40 2022-01-01 20:00:00\n",
            "41 2022-01-01 20:30:00\n",
            "42 2022-01-01 21:00:00\n",
            "43 2022-01-01 21:30:00\n",
            "44 2022-01-01 22:00:00\n",
            "45 2022-01-01 22:30:00\n",
            "46 2022-01-01 23:00:00\n",
            "47 2022-01-01 23:30:00\n"
          ]
        }
      ],
      "source": [
        "import itertools\n",
        "\n",
        "\n",
        "year_list = []\n",
        "month_list = []\n",
        "day_list = []\n",
        "hour_list = []\n",
        "minute_list = []\n",
        "min_timeinterval = 30\n",
        "\n",
        "for combination in itertools.product([2022],[1],[1],list(range(0,24)), [0,30]): # we define a dummy day 2022/01/01 but we are only interested in the time from 0h to 24h\n",
        "        #print(combination) \n",
        "        year_list.append( combination[0] )\n",
        "        month_list.append( combination[1] )\n",
        "        day_list.append( combination[2] )\n",
        "        hour_list.append( combination[3] )\n",
        "        minute_list.append( combination[4] )\n",
        "\n",
        "\n",
        "data = {'year':year_list,\n",
        "                'month':month_list,\n",
        "                'day':day_list,\n",
        "                'hour':hour_list,\n",
        "                'minute':minute_list,\n",
        "                }\n",
        "\n",
        "fullday_df = pd.DataFrame(data=data)\n",
        "\n",
        "fullday_df['time'] = pd.to_datetime( fullday_df[['year', 'month', 'day', 'hour', 'minute']])\n",
        "fullday_df = fullday_df.drop(columns=['year', 'month', 'day', 'hour', 'minute'])\n",
        "print(fullday_df)"
      ]
    },
    {
      "cell_type": "markdown",
      "metadata": {
        "id": "NeZX6Lv98O5P"
      },
      "source": [
        "# Create Training dataset"
      ]
    },
    {
      "cell_type": "markdown",
      "metadata": {
        "id": "tZo_GYxa8YK9"
      },
      "source": [
        "In this subsection, we will create the output for one day: we now want to create the targets and inputs for our training.\n",
        "Inputs will be:\n",
        "1. the type of day (= 0 for monday, ... 6 for sunday)\n",
        "2. the consumption on the previous day\n",
        "3. the consumption on the day before the previous day\n",
        "4. the consumption 3 days before\n",
        "\n",
        "Outputs will be:\n",
        "a vector of 96 elements, corresponding to all the quarters in a day. these elements will thus correspond to a timeslot in the day. the first element corresponds to 0:00:00, the second one to 00:00:15  and so on...\n",
        "These elements will be equal to 1 if the EV is charging at the corresponding time, 0 otherwise."
      ]
    },
    {
      "cell_type": "code",
      "execution_count": null,
      "metadata": {
        "colab": {
          "base_uri": "https://localhost:8080/"
        },
        "id": "j0Z27tyU8Uw8",
        "outputId": "19c07312-3956-428c-bff1-777923a47e8d"
      },
      "outputs": [
        {
          "output_type": "stream",
          "name": "stdout",
          "text": [
            "Looking in indexes: https://pypi.org/simple, https://us-python.pkg.dev/colab-wheels/public/simple/\n",
            "Requirement already satisfied: numpy in /usr/local/lib/python3.7/dist-packages (1.21.6)\n",
            "Looking in indexes: https://pypi.org/simple, https://us-python.pkg.dev/colab-wheels/public/simple/\n",
            "Requirement already satisfied: matplotlib in /usr/local/lib/python3.7/dist-packages (3.2.2)\n",
            "Requirement already satisfied: pyparsing!=2.0.4,!=2.1.2,!=2.1.6,>=2.0.1 in /usr/local/lib/python3.7/dist-packages (from matplotlib) (3.0.9)\n",
            "Requirement already satisfied: python-dateutil>=2.1 in /usr/local/lib/python3.7/dist-packages (from matplotlib) (2.8.2)\n",
            "Requirement already satisfied: cycler>=0.10 in /usr/local/lib/python3.7/dist-packages (from matplotlib) (0.11.0)\n",
            "Requirement already satisfied: numpy>=1.11 in /usr/local/lib/python3.7/dist-packages (from matplotlib) (1.21.6)\n",
            "Requirement already satisfied: kiwisolver>=1.0.1 in /usr/local/lib/python3.7/dist-packages (from matplotlib) (1.4.4)\n",
            "Requirement already satisfied: typing-extensions in /usr/local/lib/python3.7/dist-packages (from kiwisolver>=1.0.1->matplotlib) (4.1.1)\n",
            "Requirement already satisfied: six>=1.5 in /usr/local/lib/python3.7/dist-packages (from python-dateutil>=2.1->matplotlib) (1.15.0)\n"
          ]
        }
      ],
      "source": [
        "# first let's convert the data into numpy arrays\n",
        "from datetime import datetime\n",
        "!pip install numpy\n",
        "import numpy as np\n",
        "!pip install matplotlib"
      ]
    },
    {
      "cell_type": "code",
      "execution_count": null,
      "metadata": {
        "id": "CcOi6pw48bve"
      },
      "outputs": [],
      "source": [
        "Power_A = A['value'].to_numpy()\n",
        "#on recupere le temps dans timearray\n",
        "timearray = []\n",
        "timearray = A['time'].to_numpy()\n",
        "# print(A['time'])\n",
        "# print(timearray)\n",
        "# print(timearray_fullday)"
      ]
    },
    {
      "cell_type": "code",
      "execution_count": null,
      "metadata": {
        "colab": {
          "base_uri": "https://localhost:8080/"
        },
        "id": "_UX2zEYfcasg",
        "outputId": "42539c4d-a12d-4967-f8a2-4e46df15e32d"
      },
      "outputs": [
        {
          "output_type": "stream",
          "name": "stdout",
          "text": [
            "0.037495021903624054\n",
            "0.07503053232443914\n"
          ]
        }
      ],
      "source": [
        "Power = Power_A/7533\n",
        "print(Power[0])\n",
        "print(max(Power))\n"
      ]
    },
    {
      "cell_type": "code",
      "execution_count": null,
      "metadata": {
        "colab": {
          "base_uri": "https://localhost:8080/"
        },
        "id": "BXltCbnu73k9",
        "outputId": "3d77a91d-7ffd-47ba-cfa3-76b930ef72a9"
      },
      "outputs": [
        {
          "output_type": "execute_result",
          "data": {
            "text/plain": [
              "array([0.03749502, 0.02960374, 0.02745652, ..., 0.02331674, 0.01939865,\n",
              "       0.02043077])"
            ]
          },
          "metadata": {},
          "execution_count": 29
        }
      ],
      "source": [
        "Power"
      ]
    },
    {
      "cell_type": "code",
      "execution_count": null,
      "metadata": {
        "id": "8M16szI4-Y-R"
      },
      "outputs": [],
      "source": [
        "timearray_fullday = []\n",
        "timearray_fullday = fullday_df['time'].to_numpy()\n",
        "Day_type = A['day_of_week'].to_numpy()"
      ]
    },
    {
      "cell_type": "code",
      "execution_count": null,
      "metadata": {
        "colab": {
          "base_uri": "https://localhost:8080/"
        },
        "id": "3dzy4eV0-aOd",
        "outputId": "f382a089-575d-4dd8-ca71-33c12c0293d6"
      },
      "outputs": [
        {
          "output_type": "execute_result",
          "data": {
            "text/plain": [
              "array(['2021-02-01T00:00:00.000000000', '2021-02-01T00:30:00.000000000',\n",
              "       '2021-02-01T01:00:00.000000000', ...,\n",
              "       '2021-05-01T22:30:00.000000000', '2021-05-01T23:00:00.000000000',\n",
              "       '2021-05-01T23:30:00.000000000'], dtype='datetime64[ns]')"
            ]
          },
          "metadata": {},
          "execution_count": 12
        }
      ],
      "source": [
        "timearray"
      ]
    },
    {
      "cell_type": "code",
      "execution_count": null,
      "metadata": {
        "colab": {
          "base_uri": "https://localhost:8080/"
        },
        "id": "tFghvAAN8egk",
        "outputId": "3253f7a2-86f2-412d-f11e-1b761231fffc"
      },
      "outputs": [
        {
          "output_type": "stream",
          "name": "stdout",
          "text": [
            "(89, 4)\n",
            "(89, 48)\n"
          ]
        }
      ],
      "source": [
        "# 30 minutes interval\n",
        "from datetime import timedelta\n",
        "# conversion des dates, et on enleve les lignes qui n'etaient pas bonnes (time not in a date format, or just some space instaead of time)\n",
        "# We create the training (input and target) dataset:\n",
        "\n",
        "Allday_output = np.empty((48,0),int)\n",
        "input = np.empty((4,0))\n",
        "# min_timeinterval = 30\n",
        "# we create a function that generates a vector with 48 elements, with 1 when the car was charging, 0 when it was not.\n",
        "def generate_daily_profile(power,data_time, time_fullday ):\n",
        "    out_profile = []\n",
        "    index = 0\n",
        "    for element in time_fullday:\n",
        "        element = element - np.timedelta64(round((element - data_time[0])/np.timedelta64(1, 'D')),'D') #we change the year month and day of the reference time array for full day\n",
        "        if (index < data_time.size) and (abs(data_time[index] - element)/np.timedelta64(1, 's') < min_timeinterval/2):  #if the time we have here is in the input data_time array, this means we are charging\n",
        "            out_profile.append(power[index])\n",
        "            index = index+1\n",
        "        else:\n",
        "            out_profile.append(0)\n",
        "\n",
        "    return out_profile, index\n",
        "\n",
        "#first, we must identify the number of days\n",
        "nb_day = 0\n",
        "previous_element = timearray[0]\n",
        "for element in timearray:\n",
        "    if element.astype('M8[D]') != previous_element.astype('M8[D]'):\n",
        "        if nb_day>=29:\n",
        "            temp=0\n",
        "        nb_day = nb_day +1\n",
        "    previous_element = element\n",
        "\n",
        "previous_element = timearray[0]\n",
        "idx_timearray = 0\n",
        "previous_idx_timearray = 0\n",
        "count = 0\n",
        "consumption_d3 = 0  # consumption of the day -3\n",
        "consumption_d2 = 0  # consumption of the day -2\n",
        "consumption_d1 = 0  # consumption of the day -1\n",
        "\n",
        "\n",
        "for day in range(nb_day):\n",
        "    # print(day)\n",
        "    if day >=20:\n",
        "        temp = 0\n",
        "    for idx in range(49):#  element in timearray: # we will go through the end user data\n",
        "        # print(idx)\n",
        "        \n",
        "        if timearray[idx+idx_timearray].astype('M8[D]') != previous_element.astype('M8[D]'):\n",
        "            # dailyprofile_power,current_index = generate_daily_profile(Power[idx_timearray:idx_timearray+idx],timearray[idx_timearray:idx_timearray+idx], timearray_fullday )\n",
        "            #********************************************************************************\n",
        "            data_time = timearray[idx_timearray:idx_timearray+idx]\n",
        "            power = Power[idx_timearray:idx_timearray+idx]\n",
        "            time_fullday = timearray_fullday \n",
        "            out_profile = []\n",
        "            index = 0\n",
        "            for element in time_fullday:\n",
        "                \n",
        "                element = element - np.timedelta64(round((element - data_time[min(index,data_time.size-1)])/np.timedelta64(1, 'D')),'D') #we change the year month and day of the reference time array for full day\n",
        "                if (index < data_time.size) and (abs(data_time[index] - element)/np.timedelta64(1, 's') < min_timeinterval/2):  #if the time we have here is in the input data_time array, this means we are charging\n",
        "                    out_profile.append(power[index])\n",
        "                    index = index+1\n",
        "                else:\n",
        "                    out_profile.append(0)\n",
        "\n",
        "            dailyprofile_power = out_profile\n",
        "            current_index = index\n",
        "\n",
        "\n",
        "            #****************************************************************************\n",
        "            c = np.datetime_as_string(timearray_fullday, timezone='UTC')\n",
        "            # df_c = pd.DataFrame(c, columns = ['time'])\n",
        "            # df_c['power'] = dailyprofile_power\n",
        "            # df_c.to_csv('daily_profile.csv')\n",
        "            input = np.c_[input, [Day_type[idx_timearray],consumption_d1,consumption_d2,consumption_d3] ]\n",
        "            consumption_d3 = consumption_d2\n",
        "            consumption_d2 = consumption_d1\n",
        "            consumption_d1 = sum(dailyprofile_power)\n",
        "            # print(input[0])\n",
        "            Allday_output = np.c_[Allday_output,dailyprofile_power]\n",
        "            idx_timearray = idx_timearray + current_index\n",
        "            break\n",
        "            \n",
        "        previous_element = timearray[idx_timearray]\n",
        "   \n",
        "    previous_element = timearray[idx_timearray]\n",
        "\n",
        "df_c = pd.DataFrame(input)\n",
        "df_c.to_csv('inputsSubstation.csv')\n",
        "df_c = pd.DataFrame(Allday_output)\n",
        "df_c.to_csv('outputsSubstation.csv')\n",
        "target = np.transpose(Allday_output)\n",
        "# print(target.shape)\n",
        "input = np.transpose(input)\n",
        "print(input.shape)\n",
        "print(target.shape)"
      ]
    },
    {
      "cell_type": "code",
      "execution_count": 55,
      "metadata": {
        "id": "fw6Wh1mCZYiv"
      },
      "outputs": [],
      "source": [
        "# Remove weekends and the first three days\n",
        "Input = []\n",
        "Target = []\n",
        "number = int(input.size/input[0].size)\n",
        "for i in range(number):\n",
        "  if (i!=0)and(i!=1)and(i!=2)and(input[i][0]!=5)and(input[i][0]!=6):\n",
        "    Input.append(input[i])\n",
        "    Target.append(target[i])\n",
        "Input = pd.DataFrame(Input)\n",
        "Target = pd.DataFrame(Target)\n",
        "Input = Input.values\n",
        "Target = Target.values"
      ]
    },
    {
      "cell_type": "markdown",
      "metadata": {
        "id": "ePDeI8nA8nAV"
      },
      "source": [
        "# Let's try some AI forecast !"
      ]
    },
    {
      "cell_type": "markdown",
      "metadata": {
        "id": "o1XkvuWz8sX9"
      },
      "source": [
        "First, we need to split the data between train and test"
      ]
    },
    {
      "cell_type": "code",
      "execution_count": 57,
      "metadata": {
        "colab": {
          "base_uri": "https://localhost:8080/"
        },
        "id": "sxlQREZ28vr2",
        "outputId": "dc264414-8f36-4508-8d08-63eb8a365723"
      },
      "outputs": [
        {
          "output_type": "stream",
          "name": "stdout",
          "text": [
            "Looking in indexes: https://pypi.org/simple, https://us-python.pkg.dev/colab-wheels/public/simple/\n",
            "Requirement already satisfied: sklearn in /usr/local/lib/python3.7/dist-packages (0.0)\n",
            "Requirement already satisfied: scikit-learn in /usr/local/lib/python3.7/dist-packages (from sklearn) (1.0.2)\n",
            "Requirement already satisfied: joblib>=0.11 in /usr/local/lib/python3.7/dist-packages (from scikit-learn->sklearn) (1.1.0)\n",
            "Requirement already satisfied: scipy>=1.1.0 in /usr/local/lib/python3.7/dist-packages (from scikit-learn->sklearn) (1.7.3)\n",
            "Requirement already satisfied: numpy>=1.14.6 in /usr/local/lib/python3.7/dist-packages (from scikit-learn->sklearn) (1.21.6)\n",
            "Requirement already satisfied: threadpoolctl>=2.0.0 in /usr/local/lib/python3.7/dist-packages (from scikit-learn->sklearn) (3.1.0)\n"
          ]
        }
      ],
      "source": [
        "!pip install sklearn\n",
        "from sklearn.preprocessing import LabelEncoder\n",
        "from sklearn.model_selection import train_test_split\n",
        "\n",
        "X_train, X_test, y_train, y_test = train_test_split(Input,Target,test_size=0.4,shuffle=True)\n"
      ]
    },
    {
      "cell_type": "markdown",
      "metadata": {
        "id": "EnsgVTwoZO2M"
      },
      "source": [
        "Now, we will train different models.\n",
        "You are asked to test them on different days by changing the variable nb_day_test for each model. The nb_day_test boundary depends on the user you chose."
      ]
    },
    {
      "cell_type": "code",
      "execution_count": 58,
      "metadata": {
        "colab": {
          "base_uri": "https://localhost:8080/"
        },
        "id": "KBpRWXHrarLJ",
        "outputId": "c99e1cc9-4df5-43eb-fd80-8fcbb0a99921"
      },
      "outputs": [
        {
          "output_type": "execute_result",
          "data": {
            "text/plain": [
              "array([[2.        , 1.68889088, 1.60334263, 1.4335444 ]])"
            ]
          },
          "metadata": {},
          "execution_count": 58
        }
      ],
      "source": [
        "from sklearn import tree\n",
        "import calendar\n",
        "import matplotlib.pyplot as plt\n",
        "from matplotlib.pyplot import figure\n",
        "\n",
        "\n",
        "model = tree.DecisionTreeRegressor()\n",
        "model = model.fit(X_train,y_train)\n",
        "\n",
        "nb_day_test = 15\n",
        "X_test[nb_day_test:nb_day_test+1,:]\n",
        "AA = X_test[nb_day_test:nb_day_test+1,:]\n",
        "y = model.predict(AA)\n",
        "AA"
      ]
    },
    {
      "cell_type": "code",
      "execution_count": 59,
      "metadata": {
        "colab": {
          "base_uri": "https://localhost:8080/"
        },
        "id": "-8a4r7m5ciVj",
        "outputId": "c6076b6e-7996-45c4-b083-63913cd889fc"
      },
      "outputs": [
        {
          "output_type": "execute_result",
          "data": {
            "text/plain": [
              "array([[0.0314317 , 0.02936679, 0.02416899, 0.02359352, 0.02199389,\n",
              "        0.02301606, 0.02633612, 0.02560932, 0.02449489, 0.02259591,\n",
              "        0.02356166, 0.02571685, 0.03027081, 0.03973782, 0.04361808,\n",
              "        0.04144498, 0.03978495, 0.03143701, 0.02799549, 0.02743064,\n",
              "        0.02748905, 0.02637661, 0.02654918, 0.02973848, 0.03246515,\n",
              "        0.03311098, 0.02777645, 0.0279477 , 0.02638258, 0.02768286,\n",
              "        0.02788066, 0.03308045, 0.0339838 , 0.04234369, 0.04640913,\n",
              "        0.05659299, 0.06218439, 0.06564052, 0.05745652, 0.0540681 ,\n",
              "        0.04961635, 0.05150339, 0.04761848, 0.04681335, 0.04176092,\n",
              "        0.03604872, 0.02800677, 0.02811961]])"
            ]
          },
          "metadata": {},
          "execution_count": 59
        }
      ],
      "source": [
        "y"
      ]
    },
    {
      "cell_type": "code",
      "execution_count": 60,
      "metadata": {
        "id": "jXM1wyJOcoGk"
      },
      "outputs": [],
      "source": [
        "time_str = []\n",
        "for element in timearray_fullday:\n",
        "    time_str.append(str(element)[-18:-13])\n"
      ]
    },
    {
      "cell_type": "markdown",
      "metadata": {
        "id": "l_J56vfx8ygQ"
      },
      "source": [
        "# Decision Tree"
      ]
    },
    {
      "cell_type": "code",
      "execution_count": 61,
      "metadata": {
        "id": "nCDZ7E6gz1zy",
        "colab": {
          "base_uri": "https://localhost:8080/",
          "height": 500
        },
        "outputId": "f39ed81a-4bba-46b1-d8f3-1de6c409236a"
      },
      "outputs": [
        {
          "output_type": "stream",
          "name": "stdout",
          "text": [
            "39512.27458929434\n",
            "1033.4734149305555\n",
            "The  average MSE of decision tree is:  840.6866933892413\n",
            "The  average MAE of decision tree is:  21.988796062352243\n",
            "average MAPE of all days:  0.0937246908177977\n"
          ]
        },
        {
          "output_type": "display_data",
          "data": {
            "text/plain": [
              "<Figure size 640x480 with 1 Axes>"
            ],
            "image/png": "[encoded data removed]"
          },
          "metadata": {}
        }
      ],
      "source": [
        "range_1 = 15 # Use every two weeks of data to train the model for each time\n",
        "range_2 = range_1 + 1 # Forcast the next day, so totally 15 days\n",
        "# model = tree.DecisionTreeRegressor(criterion=\"squared_error\",max_depth = 3,min_samples_split = 2, min_samples_leaf = 3, random_state = 31) # MSE/MAE\n",
        "model = tree.DecisionTreeRegressor(criterion=\"squared_error\",max_depth = 2,min_samples_split = 2, min_samples_leaf = 2, random_state = 32) # MSE/MAE\n",
        "\n",
        "X = [] # Collect the test arrays\n",
        "Y = [] # Collect the predict arrays\n",
        "Y_test = [] # Collect the real arrays\n",
        "size_2 = int(Input.size/Input[0].size) - range_1\n",
        "# size_2 = 20\n",
        "for i in range(size_2):\n",
        "  # X_train, X_test, y_train, y_test = train_test_split(input_test[i:i+range_2],target_test[i:i+range_2],test_size=1/(range_2),shuffle=False)\n",
        "  X_train, X_test, y_train, y_test = train_test_split(Input[i:i+range_2],Target[i:i+range_2],test_size=1/(range_2),shuffle=False)\n",
        "  model = model.fit(X_train,y_train)\n",
        "  y = model.predict(X_test)\n",
        "  X.append(X_test)\n",
        "  Y.append(y)\n",
        "  Y_test.append(y_test)\n",
        "  # if i == 68:\n",
        "  #   XX1 = X_train\n",
        "  #   XX2 = X_test\n",
        "  #   YY1 = y_train\n",
        "  #   YY2 = y_test\n",
        "# Calculate the MSE and MAE for all predicted days\n",
        "\n",
        "MSE = [] # mean square error\n",
        "MAE = [] # mean absolute error \n",
        "average_MSE = []\n",
        "average_MAE = []\n",
        "\n",
        "MAPE = []\n",
        "average_MAPE = []\n",
        "\n",
        "for i in range(size_2):\n",
        "  # Denormalization\n",
        "  # Y[i] = Y[i]*(Max-Min) + Min # method_1\n",
        "  # Y_test[i] = Y_test[i]*int(Max-Min) + Min\n",
        "  Y[i] = Y[i]*7533 # method_2\n",
        "  Y_test[i] = Y_test[i]*7533\n",
        "\n",
        "  MSE.append(pow((Y[i] - Y_test[i]),2)) # mean square error\n",
        "  MAE.append(abs(Y[i] - Y_test[i])) # mean absolute error\n",
        "  average_MSE.append(sum(sum(MSE[i])) / MSE[i].size)\n",
        "  average_MAE.append(sum(sum(MAE[i])) / MAE[i].size)\n",
        "  MAPE.append(abs(Y[i] - Y_test[i])/Y_test[i]) # mean absolute percent error\n",
        "  average_MAPE.append(sum(sum(MAPE[i])) / MAPE[i].size)\n",
        "\n",
        "X_MSE = []\n",
        "X_MAE = []\n",
        "for i in range(size_2):\n",
        "  X_MSE.append(i)\n",
        "  X_MAE.append(i)\n",
        "\n",
        "plt.figure(facecolor='w', figsize=(8, 6), dpi=80) # frame\n",
        "\n",
        "# Show the results of all predicted MSEs and MAEs.\n",
        "plt.plot(X_MSE, average_MSE)\n",
        "plt.plot(X_MAE, average_MAE)\n",
        "print(sum(average_MSE))\n",
        "print(sum(average_MAE))\n",
        "print(\"The  average MSE of decision tree is: \",sum(average_MSE)/size_2)\n",
        "print(\"The  average MAE of decision tree is: \",sum(average_MAE)/size_2)\n",
        "print(\"average MAPE of all days: \", sum(average_MAPE)/size_2)\n",
        "# plt.plot(time_str, MSE[number-1][0], label='MSE '+calendar.day_name[int(X[number-1][0,0])])\n",
        "# plt.plot(time_str, MAE[number-1][0], label='MAE '+calendar.day_name[int(X[number-1][0,0])])\n",
        "# x_ticks = np.arange(0, 96, 12)\n",
        "# plt.xticks(x_ticks)\n",
        "# ax = plt.gca()\n",
        "# ax.set_facecolor('w')\n",
        "# plt.legend()\n",
        "# plt.show()"
      ]
    },
    {
      "cell_type": "code",
      "execution_count": 62,
      "metadata": {
        "colab": {
          "base_uri": "https://localhost:8080/",
          "height": 427
        },
        "id": "EAbUq9M75TEH",
        "outputId": "57344192-0711-41fb-8148-b64cace0c18f"
      },
      "outputs": [
        {
          "output_type": "display_data",
          "data": {
            "text/plain": [
              "<Figure size 640x480 with 1 Axes>"
            ],
            "image/png": "[encoded data removed]"
          },
          "metadata": {}
        }
      ],
      "source": [
        "# Forcasting the power conpusmption of the given day.\n",
        "\n",
        "number = 19\n",
        "plt.figure(facecolor='w', figsize=(8, 6), dpi=80) # frame\n",
        "# plot\n",
        "plt.plot(time_str,Y[number-1][0], label='Load Prediction for '+calendar.day_name[int(X[number-1][0,0])]) \n",
        "\n",
        "plt.plot(time_str,Y_test[number-1][0], label='Real Consumption for '+calendar.day_name[int(X[number-1][0,0])])\n",
        "# beautify the x-labels\n",
        "# plt.gcf().autofmt_xtime()\n",
        "plt.xticks(rotation=30) # Rotate 30 degrees\n",
        "\n",
        "\n",
        "x_ticks = np.arange(0, 48, 12) \n",
        "plt.xticks(x_ticks)\n",
        "ax = plt.gca()\n",
        "ax.set_facecolor('w') \n",
        "plt.legend()\n",
        "plt.show()"
      ]
    },
    {
      "cell_type": "code",
      "execution_count": null,
      "metadata": {
        "colab": {
          "base_uri": "https://localhost:8080/"
        },
        "id": "4GRwsCJpT4Or",
        "outputId": "6cc42940-1a6a-4044-beb1-a03b7d69f2a6"
      },
      "outputs": [
        {
          "output_type": "stream",
          "name": "stdout",
          "text": [
            "15 2 2 32 1.481488342552103e-05\n"
          ]
        }
      ],
      "source": [
        "# # grid search (for the other method: 14+1)\n",
        "for abc in range(15,16,5):\n",
        "# for abc in range(10,31,5):\n",
        "  ii = 0\n",
        "  jj = 0\n",
        "  kk = 0\n",
        "\n",
        "  i = 0\n",
        "  min = 1\n",
        "  range_1 = abc\n",
        "  range_2 = range_1+1\n",
        "  size_2 = int(Input.size/Input[0].size) - range_1\n",
        "\n",
        "  # for i in range(1,4,1):\n",
        "  #   for j in range(2,15,1):\n",
        "  #     for k in range(1,20,1):\n",
        "\n",
        "  for i in range(2,3,1):\n",
        "    for j in range(2,3,1):\n",
        "      for k in range(1,103,1):\n",
        "        S = 0\n",
        "        model=tree.DecisionTreeRegressor(criterion=\"squared_error\",max_depth = i,min_samples_split = j, min_samples_leaf = 2, random_state = k) # squared_error, absolute_error ,max_depth = 3,random_state = 20\n",
        "        # model=tree.DecisionTreeRegressor(criterion=\"absolute_error\",max_depth = i,min_samples_split = j, min_samples_leaf = k, random_state = 60) # squared_error, absolute_error\n",
        "        for num in range(size_2):\n",
        "          X_train, X_test, y_train, y_test = train_test_split(Input[num:num+range_2],Target[num:num+range_2],test_size=1/(range_2),shuffle=False)\n",
        "          MSE = []\n",
        "          MAPE = []\n",
        "          model.fit(X_train,y_train)\n",
        "          Y = model.predict(X_test)\n",
        "          MSE = pow((Y - y_test),2) # New definition of the score\n",
        "          S = S + sum(sum(MSE))/MSE.size      \n",
        "          # MAPE = abs(Y - y_test)/y_test # mean absolute percent error\n",
        "          # S = S + sum(sum(MAPE))/MAPE.size\n",
        "        # print(i,j,k,S/size_2)\n",
        "        if min > S/size_2:\n",
        "          ii = i\n",
        "          jj = j\n",
        "          kk = k\n",
        "          min = S/size_2\n",
        "\n",
        "  print(abc,ii,jj,kk,min)  "
      ]
    },
    {
      "cell_type": "markdown",
      "metadata": {
        "id": "L7D2wC2hcGEE"
      },
      "source": [
        "# Random Forest"
      ]
    },
    {
      "cell_type": "code",
      "execution_count": null,
      "metadata": {
        "colab": {
          "base_uri": "https://localhost:8080/"
        },
        "id": "KsgZUgD0T_cP",
        "outputId": "8d98b865-dbe7-4288-d96f-e16f96714401"
      },
      "outputs": [
        {
          "output_type": "stream",
          "name": "stdout",
          "text": [
            "Looking in indexes: https://pypi.org/simple, https://us-python.pkg.dev/colab-wheels/public/simple/\n",
            "Requirement already satisfied: sklearn in /usr/local/lib/python3.7/dist-packages (0.0)\n",
            "Requirement already satisfied: scikit-learn in /usr/local/lib/python3.7/dist-packages (from sklearn) (1.0.2)\n",
            "Requirement already satisfied: joblib>=0.11 in /usr/local/lib/python3.7/dist-packages (from scikit-learn->sklearn) (1.1.0)\n",
            "Requirement already satisfied: numpy>=1.14.6 in /usr/local/lib/python3.7/dist-packages (from scikit-learn->sklearn) (1.21.6)\n",
            "Requirement already satisfied: scipy>=1.1.0 in /usr/local/lib/python3.7/dist-packages (from scikit-learn->sklearn) (1.7.3)\n",
            "Requirement already satisfied: threadpoolctl>=2.0.0 in /usr/local/lib/python3.7/dist-packages (from scikit-learn->sklearn) (3.1.0)\n"
          ]
        }
      ],
      "source": [
        "!pip install sklearn\n",
        "from sklearn.preprocessing import LabelEncoder\n",
        "from sklearn.model_selection import train_test_split\n",
        "\n",
        "X_train, X_test, y_train, y_test = train_test_split(Input,Target,test_size=0.4,shuffle=True)\n"
      ]
    },
    {
      "cell_type": "code",
      "execution_count": null,
      "metadata": {
        "id": "xkNIsWgIcNJS"
      },
      "outputs": [],
      "source": [
        "from sklearn.ensemble import RandomForestRegressor\n",
        "model = RandomForestRegressor(n_estimators = 1000, max_depth = 5,min_samples_split = 69, min_samples_leaf = 18, random_state = 0) #n_estimators = number of trees in the forest  # To be changed\n",
        "# criterion=\"absolute_error\",max_depth = 5,min_samples_split = 69, min_samples_leaf = 18, random_state = 60\n",
        "model = model.fit(X_train,y_train)"
      ]
    },
    {
      "cell_type": "code",
      "execution_count": 63,
      "metadata": {
        "colab": {
          "base_uri": "https://localhost:8080/",
          "height": 500
        },
        "id": "TvVoi3CcIV2n",
        "outputId": "d23e64e4-d0aa-4795-836d-0085cd1039cf"
      },
      "outputs": [
        {
          "output_type": "stream",
          "name": "stdout",
          "text": [
            "28125.97201376117\n",
            "780.2083917824071\n",
            "The  average MSE is:  760.1614057773289\n",
            "The  average MAE is:  21.08671329141641\n",
            "average MAPE of all days:  0.09022041646715305\n"
          ]
        },
        {
          "output_type": "display_data",
          "data": {
            "text/plain": [
              "<Figure size 640x480 with 1 Axes>"
            ],
            "image/png": "[encoded data removed]"
          },
          "metadata": {}
        }
      ],
      "source": [
        "range_1 = 25 # Use every two weeks of data to train the model for each time\n",
        "range_2 = range_1 + 1 # Forcast the next day, so totally 15 days\n",
        "model = RandomForestRegressor(n_estimators = 38, criterion=\"squared_error\", max_depth = 4, min_samples_split = 2, min_samples_leaf = 1, random_state = 104) # MSE/MAE\n",
        "# model = RandomForestRegressor(n_estimators = 37, criterion=\"absolute_error\", max_depth = 1, min_samples_split = 2, min_samples_leaf = 3, random_state = 19) # MAPE   \n",
        "X = [] # Collect the test arrays\n",
        "Y = [] # Collect the predict arrays\n",
        "Y_test = [] # Collect the real arrays\n",
        "size_2 = int(Input.size/Input[0].size) - range_1\n",
        "# size_2 = 10\n",
        "score1 = 0\n",
        "score2 = 0\n",
        "for i in range(size_2):\n",
        "  # X_train, X_test, y_train, y_test = train_test_split(input_test[i:i+range_2],target_test[i:i+range_2],test_size=1/(range_2),shuffle=False)\n",
        "  X_train, X_test, y_train, y_test = train_test_split(Input[i:i+range_2],Target[i:i+range_2],test_size=1/(range_2),shuffle=False)\n",
        "  model = model.fit(X_train,y_train)\n",
        "  y = model.predict(X_test)\n",
        "  X.append(X_test)\n",
        "  Y.append(y)\n",
        "  Y_test.append(y_test)\n",
        "  # print(i)\n",
        "\n",
        "# Calculate the MSE and MAE for all predicted days\n",
        "\n",
        "MSE = [] # mean square error\n",
        "MAE = [] # mean absolute error \n",
        "average_MSE = []\n",
        "average_MAE = []\n",
        "\n",
        "MAPE = []\n",
        "average_MAPE = []\n",
        "\n",
        "for i in range(size_2):\n",
        "  # Denormalization\n",
        "  Y[i] = Y[i]*7533 # method_2\n",
        "  Y_test[i] = Y_test[i]*7533\n",
        "\n",
        "  MSE.append(pow((Y[i] - Y_test[i]),2)) # mean square error\n",
        "  MAE.append(abs(Y[i] - Y_test[i])) # mean absolute error\n",
        "  average_MSE.append(sum(sum(MSE[i])) / MSE[i].size)\n",
        "  average_MAE.append(sum(sum(MAE[i])) / MAE[i].size)\n",
        "\n",
        "  MAPE.append(abs(Y[i] - Y_test[i])/Y_test[i]) # mean absolute percent error\n",
        "  average_MAPE.append(sum(sum(MAPE[i])) / MAPE[i].size)\n",
        "\n",
        "\n",
        "X_MSE = []\n",
        "X_MAE = []\n",
        "for i in range(size_2):\n",
        "  X_MSE.append(i)\n",
        "  X_MAE.append(i)\n",
        "\n",
        "plt.figure(facecolor='w', figsize=(8, 6), dpi=80) # frame\n",
        "\n",
        "# Show the results of all predicted MSEs and MAEs.\n",
        "plt.plot(X_MSE, average_MSE)\n",
        "plt.plot(X_MAE, average_MAE)\n",
        "print(sum(average_MSE))\n",
        "print(sum(average_MAE))\n",
        "print(\"The  average MSE is: \",sum(average_MSE)/size_2)\n",
        "print(\"The  average MAE is: \",sum(average_MAE)/size_2)\n",
        "print(\"average MAPE of all days: \", sum(average_MAPE)/size_2)"
      ]
    },
    {
      "cell_type": "code",
      "execution_count": null,
      "metadata": {
        "colab": {
          "base_uri": "https://localhost:8080/",
          "height": 486
        },
        "id": "HjfBDNp4jL19",
        "outputId": "83a7caf7-4542-4fb3-d6fa-082c4b5c15f0"
      },
      "outputs": [
        {
          "output_type": "stream",
          "name": "stderr",
          "text": [
            "WARNING:matplotlib.font_manager:findfont: Font family ['Times New Roman'] not found. Falling back to DejaVu Sans.\n",
            "WARNING:matplotlib.font_manager:findfont: Font family ['Times New Roman'] not found. Falling back to DejaVu Sans.\n"
          ]
        },
        {
          "output_type": "display_data",
          "data": {
            "text/plain": [
              "<Figure size 640x480 with 1 Axes>"
            ],
            "image/png": "[encoded data removed]"
          },
          "metadata": {}
        }
      ],
      "source": [
        "# Forcasting the power conpusmption of the given day.\n",
        "\n",
        "number = 28\n",
        "plt.figure(facecolor='w', figsize=(8, 6), dpi=80) # frame\n",
        "# plot\n",
        "plt.plot(time_str,Y[number-1][0], label='Load Prediction for '+calendar.day_name[int(X[number-1][0,0])]) \n",
        "\n",
        "plt.plot(time_str,Y_test[number-1][0], label='Real Consumption for '+calendar.day_name[int(X[number-1][0,0])])\n",
        "# beautify the x-labels\n",
        "# plt.gcf().autofmt_xtime()\n",
        "plt.xticks(rotation=30) # Rotate 30 degrees\n",
        "font1 = {'family' : 'Times New Roman', 'weight' : 'normal', 'size': 10,}\n",
        "font2 = {'family' : 'Times New Roman', 'weight' : 'normal', 'size': 18,}\n",
        "\n",
        "plt.xlabel(\"Random Forest Prediction Example\",font2)         \n",
        "plt.ylabel(r\"Power (MWh)\",font1) \n",
        "\n",
        "x_ticks = np.arange(0, 48, 12) \n",
        "plt.xticks(x_ticks)\n",
        "ax = plt.gca()\n",
        "ax.set_facecolor('w') \n",
        "plt.legend()\n",
        "plt.show()"
      ]
    },
    {
      "cell_type": "code",
      "execution_count": null,
      "metadata": {
        "colab": {
          "base_uri": "https://localhost:8080/"
        },
        "id": "w0tzUKnVcvd5",
        "outputId": "f0783601-8606-47f5-99aa-e4b8b3575fff"
      },
      "outputs": [
        {
          "output_type": "stream",
          "name": "stdout",
          "text": [
            "38 4 2 1 94 1.4426809920225722e-05\n",
            "38 4 2 1 95 1.5234559833497414e-05\n",
            "38 4 2 1 96 1.3961167938097697e-05\n",
            "38 4 2 1 97 1.4624189481467872e-05\n",
            "38 4 2 1 98 1.4335471558600188e-05\n",
            "38 4 2 1 99 1.437351173253914e-05\n",
            "38 4 2 1 100 1.4665891863258207e-05\n",
            "38 4 2 1 101 1.4377748774568968e-05\n",
            "38 4 2 1 102 1.4679011869924604e-05\n",
            "38 4 2 1 103 1.380141350566537e-05\n",
            "38 4 2 1 104 1.3395837830820887e-05\n",
            "38 4 2 1 105 1.4653831493724263e-05\n",
            "38 4 2 1 106 1.4346590416292228e-05\n",
            "38 4 2 1 107 1.431989823310676e-05\n",
            "38 4 2 1 108 1.4586117657640625e-05\n",
            "38 4 2 1 109 1.3777444343465905e-05\n",
            "38 4 2 1 110 1.4361448212850143e-05\n",
            "38 4 2 1 111 1.4646119409145462e-05\n",
            "38 4 2 1 112 1.43977577222359e-05\n",
            "38 4 2 1 113 1.5085862626364156e-05\n",
            "38 4 2 1 114 1.4405839184444894e-05\n",
            "25 38 4 2 1 104 1.3395837830820887e-05\n"
          ]
        }
      ],
      "source": [
        "# # grid search (for the other method: 14+1)\n",
        "for abc in range(25,26,5):\n",
        "  ii = 0\n",
        "  jj = 0\n",
        "  kk = 0\n",
        "  ll = 0\n",
        "  mm = 0\n",
        "\n",
        "  i = 0\n",
        "  min = 1000\n",
        "  range_1 = abc\n",
        "  range_2 = range_1+1\n",
        "  size_2 = int(Input.size/Input[0].size) - range_1\n",
        "\n",
        "  #   for j in range(1,8/11,1):\n",
        "  #     for k in range(2,14,1):\n",
        "  #       for l in range(1,7,1):\n",
        "\n",
        "  for i in range(38,39,1):\n",
        "    for j in range(4,5,1):\n",
        "      for k in range(2,3,1):\n",
        "        for l in range(1,2,1):\n",
        "          for m in range(94,115,1):\n",
        "            S = 0\n",
        "            # model = RandomForestRegressor(n_estimators = i, criterion=\"squared_error\", max_depth = j, min_samples_split = k, min_samples_leaf = 3, random_state = 86)    \n",
        "            model = RandomForestRegressor(criterion=\"squared_error\",n_estimators = i,max_depth = j,min_samples_split = k,min_samples_leaf = l,random_state = m)    \n",
        "            for num in range(size_2):\n",
        "              X_train, X_test, y_train, y_test = train_test_split(Input[num:num+range_2],Target[num:num+range_2],test_size=1/(range_2),shuffle=False)\n",
        "              MSE = []\n",
        "              model.fit(X_train,y_train)\n",
        "              Y = model.predict(X_test)\n",
        "              MSE = pow((Y - y_test),2) # New definition of the score\n",
        "              S = S + sum(sum(MSE))/MSE.size\n",
        "              # MAPE = abs(Y - y_test)/y_test # mean absolute percent error\n",
        "              # S = S + sum(sum(MAPE))/MAPE.size\n",
        "            print(i,j,k,l,m,S/size_2)\n",
        "            if min > S/size_2:\n",
        "              ii = i\n",
        "              jj = j\n",
        "              kk = k\n",
        "              ll = l\n",
        "              mm = m\n",
        "              min = S/size_2\n",
        "\n",
        "  print(abc,ii,jj,kk,ll,mm,min)  \n"
      ]
    },
    {
      "cell_type": "code",
      "execution_count": null,
      "metadata": {
        "id": "K1rUnfUX5J0Q"
      },
      "outputs": [],
      "source": [
        "# 25 35 9 2 1 104 1.3764728178208656e-05 ab\n",
        "# 25 35 6 2 1 104 1.3584485991218171e-05 sq\n",
        "\n",
        "# 25 28 5 3 1 104 1.3403681420249118e-05 ab\n",
        "# 25 38 4 2 1 104 1.3395837830820887e-05 sq\n"
      ]
    },
    {
      "cell_type": "markdown",
      "metadata": {
        "id": "iLiPLILmcg4M"
      },
      "source": [
        "# kNN"
      ]
    },
    {
      "cell_type": "code",
      "execution_count": 64,
      "metadata": {
        "colab": {
          "base_uri": "https://localhost:8080/",
          "height": 502
        },
        "id": "YUoP7xKPr_Lf",
        "outputId": "ce0231af-d390-4fed-8714-ecae0df4f9e2"
      },
      "outputs": [
        {
          "output_type": "stream",
          "name": "stdout",
          "text": [
            "0.0008744215282618259\n",
            "0.1673057390076257\n",
            "The  average MSE is:  1.5340728565996946e-05\n",
            "The  average MAE is:  0.002935188403642556\n",
            "average MAPE of all days:  0.09010309226613872\n"
          ]
        },
        {
          "output_type": "display_data",
          "data": {
            "text/plain": [
              "<Figure size 640x480 with 1 Axes>"
            ],
            "image/png": "[encoded data removed]"
          },
          "metadata": {}
        }
      ],
      "source": [
        "from sklearn.neighbors import KNeighborsRegressor\n",
        "\n",
        "range_1 = 5 # Use every two weeks of data to train the model for each time\n",
        "range_2 = range_1 + 1 # Forcast the next day, so totally 15 days\n",
        "# model= KNeighborsRegressor(p=1, n_neighbors=5, weights='distance') # MAPE\n",
        "model= KNeighborsRegressor(p=1, n_neighbors=3, weights='uniform') # MSE/MAE\n",
        "X = [] # Collect the test arrays\n",
        "Y = [] # Collect the predict arrays\n",
        "Y_test = [] # Collect the real arrays\n",
        "size_2 = int(Input.size/Input[0].size) - range_1\n",
        "# size_2 = 10\n",
        "for i in range(size_2):\n",
        "  # X_train, X_test, y_train, y_test = train_test_split(input_test[i:i+range_2],target_test[i:i+range_2],test_size=1/(range_2),shuffle=False)\n",
        "  X_train, X_test, y_train, y_test = train_test_split(Input[i:i+range_2],Target[i:i+range_2],test_size=1/(range_2),shuffle=False)\n",
        "  model = model.fit(X_train,y_train)\n",
        "  y = model.predict(X_test)\n",
        "  X.append(X_test)\n",
        "  Y.append(y)\n",
        "  Y_test.append(y_test)\n",
        "\n",
        "# Calculate the MSE and MAE for all predicted days\n",
        "\n",
        "MSE = [] # mean square error\n",
        "MAE = [] # mean absolute error \n",
        "average_MSE = []\n",
        "average_MAE = []\n",
        "MAPE = []\n",
        "average_MAPE = []\n",
        "\n",
        "for i in range(size_2):\n",
        "  # Denormalization\n",
        "  # Y[i] = Y[i]*7533 # method_2\n",
        "  # Y_test[i] = Y_test[i]*7533\n",
        "\n",
        "  MSE.append(pow((Y[i] - Y_test[i]),2)) # mean square error\n",
        "  MAE.append(abs(Y[i] - Y_test[i])) # mean absolute error\n",
        "  average_MSE.append(sum(sum(MSE[i])) / MSE[i].size)\n",
        "  average_MAE.append(sum(sum(MAE[i])) / MAE[i].size)\n",
        "  MAPE.append(abs(Y[i] - Y_test[i])/Y_test[i]) # mean absolute percent error\n",
        "  average_MAPE.append(sum(sum(MAPE[i])) / MAPE[i].size)\n",
        "\n",
        "X_MSE = []\n",
        "X_MAE = []\n",
        "for i in range(size_2):\n",
        "  X_MSE.append(i)\n",
        "  X_MAE.append(i)\n",
        "\n",
        "plt.figure(facecolor='w', figsize=(8, 6), dpi=80) # frame\n",
        "\n",
        "# Show the results of all predicted MSEs and MAEs.\n",
        "plt.plot(X_MSE, average_MSE)\n",
        "plt.plot(X_MAE, average_MAE)\n",
        "print(sum(average_MSE))\n",
        "print(sum(average_MAE))\n",
        "print(\"The  average MSE is: \",sum(average_MSE)/size_2)\n",
        "print(\"The  average MAE is: \",sum(average_MAE)/size_2)\n",
        "print(\"average MAPE of all days: \", sum(average_MAPE)/size_2)\n"
      ]
    },
    {
      "cell_type": "code",
      "source": [
        "# Forcasting the power conpusmption of the given day.\n",
        "\n",
        "number = 48\n",
        "plt.figure(facecolor='w', figsize=(8, 6), dpi=80) # frame\n",
        "# plot\n",
        "plt.plot(time_str,Y[number-1][0], label='Load Prediction for '+calendar.day_name[int(X[number-1][0,0])]) \n",
        "\n",
        "plt.plot(time_str,Y_test[number-1][0], label='Real Consumption for '+calendar.day_name[int(X[number-1][0,0])])\n",
        "# beautify the x-labels\n",
        "# plt.gcf().autofmt_xtime()\n",
        "plt.xticks(rotation=30) # Rotate 30 degrees\n",
        "font1 = {'family' : 'Times New Roman', 'weight' : 'normal', 'size': 10,}\n",
        "font2 = {'family' : 'Times New Roman', 'weight' : 'normal', 'size': 18,}\n",
        "\n",
        "plt.xlabel(\"KNN Prediction Example\",font2)         \n",
        "plt.ylabel(r\"Power (MWh)\",font1) \n",
        "\n",
        "x_ticks = np.arange(0, 48, 12) \n",
        "plt.xticks(x_ticks)\n",
        "ax = plt.gca()\n",
        "ax.set_facecolor('w') \n",
        "plt.legend()\n",
        "plt.show()"
      ],
      "metadata": {
        "colab": {
          "base_uri": "https://localhost:8080/",
          "height": 451
        },
        "id": "UrFpsZwD5It5",
        "outputId": "ff2250f8-5ffa-433d-d5a9-fa2896b70297"
      },
      "execution_count": 65,
      "outputs": [
        {
          "output_type": "display_data",
          "data": {
            "text/plain": [
              "<Figure size 640x480 with 1 Axes>"
            ],
            "image/png": "[encoded data removed]"
          },
          "metadata": {}
        }
      ]
    },
    {
      "cell_type": "code",
      "execution_count": null,
      "metadata": {
        "colab": {
          "base_uri": "https://localhost:8080/"
        },
        "id": "XqWEGKWm-VN5",
        "outputId": "a01a0839-d803-4026-a764-f15cb0e3fb34"
      },
      "outputs": [
        {
          "output_type": "stream",
          "name": "stdout",
          "text": [
            "5 1 5 1.6722802081274574e-05\n",
            "10 1 7 1.5427744482999954e-05\n",
            "15 1 10 1.643270609505505e-05\n",
            "20 1 13 1.8308259953116848e-05\n",
            "25 1 8 1.848148651073234e-05\n",
            "30 1 10 1.9335469389760483e-05\n",
            "35 2 4 2.12550587040232e-05\n",
            "40 1 4 2.217347221276549e-05\n",
            "45 1 4 1.9725802945624606e-05\n"
          ]
        }
      ],
      "source": [
        "# # grid search (for the other method: 14+1)\n",
        "for abc in range(5,46,5):\n",
        "  ii = 0\n",
        "  jj = 0\n",
        "  num_of_tree = []\n",
        "  i = 0\n",
        "  min = 10\n",
        "  range_1 = abc\n",
        "  range_2 = range_1+1\n",
        "  size_2 = int(Input.size/Input[0].size) - range_1\n",
        "\n",
        "  for i in range(1,3,1):\n",
        "    for j in range(1,range_2,1):\n",
        "      S = 0\n",
        "      model= KNeighborsRegressor(p=i, n_neighbors=j, weights='distance')\n",
        "      for num in range(size_2):\n",
        "        X_train, X_test, y_train, y_test = train_test_split(Input[num:num+range_2],Target[num:num+range_2],test_size=1/(range_2),shuffle=False)\n",
        "        MSE = []\n",
        "        model.fit(X_train,y_train)\n",
        "        Y = model.predict(X_test)\n",
        "        MSE = pow((Y - y_test),2) # New definition of the score\n",
        "        S = S + sum(sum(MSE))/MSE.size\n",
        "        # MAPE = abs(Y - y_test)/y_test # mean absolute percent error\n",
        "        # S = S + sum(sum(MAPE))/MAPE.size\n",
        "      # print(i,j,S/size_2)\n",
        "      num_of_tree.append(S/size_2)\n",
        "      if min > S/size_2:\n",
        "        ii = i\n",
        "        jj = j\n",
        "        min = S/size_2\n",
        "\n",
        "  print(abc,ii,jj,min)  "
      ]
    },
    {
      "cell_type": "code",
      "execution_count": null,
      "metadata": {
        "id": "Gp8mIerF1VZK"
      },
      "outputs": [],
      "source": [
        "# 5 1 3 1.5340728565996946e-05"
      ]
    }
  ],
  "metadata": {
    "colab": {
      "collapsed_sections": [
        "21iXTtbRZ239",
        "AthiHejk7gqO",
        "ePDeI8nA8nAV"
      ],
      "name": "forecasting 200 households(D3)",
      "provenance": []
    },
    "gpuClass": "standard",
    "kernelspec": {
      "display_name": "Python 3",
      "name": "python3"
    },
    "language_info": {
      "name": "python"
    }
  },
  "nbformat": 4,
  "nbformat_minor": 0
}